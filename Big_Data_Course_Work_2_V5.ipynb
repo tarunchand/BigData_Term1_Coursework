{
  "cells": [
    {
      "cell_type": "markdown",
      "source": [
        "# Component 1: Project Proposal\n",
        "\n",
        "## Introduction\n",
        "\n",
        "In this project, I will be working on analyzing the sentiment(Positive/Negative) of the Amazon reviews dataset which contains reviews from various users for different Amazon products. The dataset contains two sentiments - Positive/Negative making this a binary classification task. The dataset is divided into a training set of size 1.59GB and a test set of size 176MB making this suitable for big data tasks.\n",
        "\n",
        "Sentiment analysis is the process of classifying the sentiment of a text or speech as positive, negative or neutral. It has become an important field in driving various business decisions. Many studies have explored various approaches to sentiment analysis, such as rule-based methods, lexicon-based methods and machine learning methods. Rule-based methods involve simply classifying the text based on the presence of certain keywords whereas lexicon-based methods use dictionaries and their sentiment scores to classify text. The drawbacks of these methods are they fail to effectively capture the semantic relationship between the words and they will struggle to handle sarcasm in the reviews. For this project, we will be using machine learning methods to predict the sentiment of Amazon reviews.\n",
        "\n",
        "I will be using HDFS - Hadoop Distributed File System for storing the dataset and pyspark on top of HDFS for processing the data and Spark's Mllib for analyzing and training the data with machine learning algorithms. Spark Mllib is designed to be distributed and can run on multiple large-scale computing clusters and it internally uses the power of Spark's distributed compute engine which allows it to process large datasets in parallel. So, in the future, for large datasets, as the data size increases we can horizontally scale the Hadoop Distributed File System's storage by adding more machines to the cluster and similarly to increase the processing power of Spark we can horizontally scale by adding more compute machines to the cluster without changing an pyspark code.\n",
        "\n",
        "The dataset is imported by the spark from HDFS storage and various data exploration and visualization techniques are used in order to gain insights into the dataset .Then the dataset is pre-processed and relevant features were extracted for training the ML model using pyspark. After the feature extraction, the class imbalance is handled and the data is trained with 3 Machine learning models using pypspark MLlib on training data.All 3 models were evaluated against the validation data with the help of different performance metrics. The best model is selected based on the evaluation results of validation data and it is evaluated against the test set in order to measure the performance of our final model for predicting sentiments from a given review."
      ],
      "metadata": {
        "id": "2J6TXlFCnJQG"
      }
    },
    {
      "cell_type": "markdown",
      "source": [
        "## Dataset"
      ],
      "metadata": {
        "id": "UaU28ETinlvE"
      }
    },
    {
      "cell_type": "markdown",
      "source": [
        "The dataset I am using for this project can be found at https://www.kaggle.com/datasets/kritanjalijain/amazon-reviews\n",
        "\n",
        "The dataset contains around 34 million Amazon reviews from 6 million Amazon users on 2 million products. It consists of the below columns\n",
        "\n",
        "1.   **Title** - The review title\n",
        "2.   **Review** - Users review on a particular product on Amazon\n",
        "3.   **Polarity** - Which indicates the sentiment of users review. It has values 1, 2. 1 indicates Negative and 2 indicates Positive.\n",
        "\n",
        "I will not load the dataset and analyze it with the help of data visualization and exploration techniques.\n",
        "\n"
      ],
      "metadata": {
        "id": "_Rpq4bTqpY6M"
      }
    },
    {
      "cell_type": "code",
      "execution_count": null,
      "metadata": {
        "colab": {
          "base_uri": "https://localhost:8080/"
        },
        "id": "vVOj66sTgzF2",
        "outputId": "eeb05bef-e4c5-42a0-98e5-e6b80e57c63c"
      },
      "outputs": [
        {
          "output_type": "stream",
          "name": "stdout",
          "text": [
            "Looking in indexes: https://pypi.org/simple, https://us-python.pkg.dev/colab-wheels/public/simple/\n",
            "Requirement already satisfied: pyspark in /usr/local/lib/python3.10/dist-packages (3.4.0)\n",
            "Requirement already satisfied: py4j==0.10.9.7 in /usr/local/lib/python3.10/dist-packages (from pyspark) (0.10.9.7)\n"
          ]
        }
      ],
      "source": [
        "# Importing all the essential libraries\n",
        "import pyspark\n",
        "import pandas as pd\n",
        "import matplotlib.pyplot as plt\n",
        "from pyspark.sql import SparkSession\n",
        "from pyspark.sql.functions import *\n",
        "from pyspark.sql.types import *\n",
        "from pyspark.ml.feature import Tokenizer, StopWordsRemover, VectorAssembler, Word2Vec, StandardScaler\n",
        "from pyspark.ml import Pipeline, Transformer\n",
        "from pyspark.ml.param.shared import HasInputCol, HasOutputCol, Param\n",
        "from pyspark.ml.classification import RandomForestClassifier, LogisticRegression, LinearSVC\n",
        "from pyspark.ml.evaluation import BinaryClassificationEvaluator\n",
        "from pyspark.ml.tuning import CrossValidator, ParamGridBuilder"
      ]
    },
    {
      "cell_type": "code",
      "execution_count": null,
      "metadata": {
        "id": "IEQINAy4Sowa"
      },
      "outputs": [],
      "source": [
        "# Creating a Spark Session\n",
        "spark = SparkSession.builder.master(\"local[*]\").appName(\"Amazon_Reviews_Sentiment_Analysis\").getOrCreate()"
      ]
    },
    {
      "cell_type": "code",
      "source": [
        "# Defining the path of the dataset which is stored on Hadoop Distributed File System\n",
        "train_path = \"hdfs:///user/hkhan012/course_work_2/train.csv\"\n",
        "test_path = \"hdfs:///user/hkhan012/course_work_2/test.csv\""
      ],
      "metadata": {
        "id": "as_iQVS8oVgE"
      },
      "execution_count": null,
      "outputs": []
    },
    {
      "cell_type": "markdown",
      "metadata": {
        "id": "FZIxKoLgCyvt"
      },
      "source": [
        "### Load Data"
      ]
    },
    {
      "cell_type": "markdown",
      "source": [
        "Loading the dataset"
      ],
      "metadata": {
        "id": "ramVkV3_34da"
      }
    },
    {
      "cell_type": "code",
      "execution_count": null,
      "metadata": {
        "id": "XNZOQ0QdWJNw"
      },
      "outputs": [],
      "source": [
        "amazon_reviews_df = spark.read.option(\"inferSchema\", True).csv(train_path)"
      ]
    },
    {
      "cell_type": "code",
      "execution_count": null,
      "metadata": {
        "colab": {
          "base_uri": "https://localhost:8080/"
        },
        "id": "4mTUCY49W4q4",
        "outputId": "775dc482-88fe-4a2f-d911-7904c7b2f0d9"
      },
      "outputs": [
        {
          "output_type": "stream",
          "name": "stdout",
          "text": [
            "+---+--------------------+--------------------+\n",
            "|_c0|                 _c1|                 _c2|\n",
            "+---+--------------------+--------------------+\n",
            "|  2|Stuning even for ...|This sound track ...|\n",
            "|  2|The best soundtra...|I'm reading a lot...|\n",
            "|  2|            Amazing!|\"This soundtrack ...|\n",
            "|  2|Excellent Soundtrack|I truly like this...|\n",
            "|  2|Remember, Pull Yo...|If you've played ...|\n",
            "|  2|an absolute maste...|I am quite sure a...|\n",
            "|  1|        Buyer beware|\"This is a self-p...|\n",
            "|  2|      Glorious story|I loved Whisper o...|\n",
            "|  2|    A FIVE STAR BOOK|I just finished r...|\n",
            "|  2|Whispers of the W...|This was a easy t...|\n",
            "|  1|          The Worst!|A complete waste ...|\n",
            "|  2|          Great book|This was a great ...|\n",
            "|  2|          Great Read|I thought this bo...|\n",
            "|  1|           Oh please|I guess you have ...|\n",
            "|  1|Awful beyond belief!|\"I feel I have to...|\n",
            "|  1|Don't try to fool...|It's glaringly ob...|\n",
            "|  2|A romantic zen ba...|\"When you hear fo...|\n",
            "|  2|Fashionable Compr...|After I had a DVT...|\n",
            "|  2|Jobst UltraSheer ...|Excellent product...|\n",
            "|  1|sizes recomended ...|sizes are much sm...|\n",
            "+---+--------------------+--------------------+\n",
            "only showing top 20 rows\n",
            "\n"
          ]
        }
      ],
      "source": [
        "amazon_reviews_df.show()"
      ]
    },
    {
      "cell_type": "markdown",
      "metadata": {
        "id": "1d6dq0mn2YHs"
      },
      "source": [
        "**Test Set**"
      ]
    },
    {
      "cell_type": "markdown",
      "source": [
        "Loading the test dataset"
      ],
      "metadata": {
        "id": "8GWy9wKQ0xXY"
      }
    },
    {
      "cell_type": "code",
      "execution_count": null,
      "metadata": {
        "id": "xcdlC3SL2ddi"
      },
      "outputs": [],
      "source": [
        "amazon_reviews_df_test = spark.read.option(\"inferSchema\", True).csv(test_path)"
      ]
    },
    {
      "cell_type": "markdown",
      "metadata": {
        "id": "qV-tjkCrCSTA"
      },
      "source": [
        "### Renaming Columns"
      ]
    },
    {
      "cell_type": "code",
      "execution_count": null,
      "metadata": {
        "colab": {
          "base_uri": "https://localhost:8080/"
        },
        "id": "X8Fur1zcW8AJ",
        "outputId": "7cccf854-1c7d-4680-e8ab-8c69b9f97763"
      },
      "outputs": [
        {
          "output_type": "stream",
          "name": "stdout",
          "text": [
            "root\n",
            " |-- _c0: integer (nullable = true)\n",
            " |-- _c1: string (nullable = true)\n",
            " |-- _c2: string (nullable = true)\n",
            "\n"
          ]
        }
      ],
      "source": [
        "# Checking the column names and column types\n",
        "amazon_reviews_df.printSchema()"
      ]
    },
    {
      "cell_type": "markdown",
      "source": [
        "Renaming the columns _c0, _c1, _c2 as Polarity, Title and Review\n",
        "\n",
        "---\n",
        "\n"
      ],
      "metadata": {
        "id": "pTX0x0cX06Rl"
      }
    },
    {
      "cell_type": "code",
      "execution_count": null,
      "metadata": {
        "colab": {
          "base_uri": "https://localhost:8080/"
        },
        "id": "6d7xpqVUZ9-w",
        "outputId": "02a82903-f6b4-46e7-a1f8-0a56b6bd0ec9"
      },
      "outputs": [
        {
          "output_type": "stream",
          "name": "stdout",
          "text": [
            "+--------+--------------------+--------------------+\n",
            "|Polarity|               Title|              Review|\n",
            "+--------+--------------------+--------------------+\n",
            "|       2|Stuning even for ...|This sound track ...|\n",
            "|       2|The best soundtra...|I'm reading a lot...|\n",
            "|       2|            Amazing!|\"This soundtrack ...|\n",
            "|       2|Excellent Soundtrack|I truly like this...|\n",
            "|       2|Remember, Pull Yo...|If you've played ...|\n",
            "|       2|an absolute maste...|I am quite sure a...|\n",
            "|       1|        Buyer beware|\"This is a self-p...|\n",
            "|       2|      Glorious story|I loved Whisper o...|\n",
            "|       2|    A FIVE STAR BOOK|I just finished r...|\n",
            "|       2|Whispers of the W...|This was a easy t...|\n",
            "|       1|          The Worst!|A complete waste ...|\n",
            "|       2|          Great book|This was a great ...|\n",
            "|       2|          Great Read|I thought this bo...|\n",
            "|       1|           Oh please|I guess you have ...|\n",
            "|       1|Awful beyond belief!|\"I feel I have to...|\n",
            "|       1|Don't try to fool...|It's glaringly ob...|\n",
            "|       2|A romantic zen ba...|\"When you hear fo...|\n",
            "|       2|Fashionable Compr...|After I had a DVT...|\n",
            "|       2|Jobst UltraSheer ...|Excellent product...|\n",
            "|       1|sizes recomended ...|sizes are much sm...|\n",
            "+--------+--------------------+--------------------+\n",
            "only showing top 20 rows\n",
            "\n"
          ]
        }
      ],
      "source": [
        "amazon_reviews_df = amazon_reviews_df.withColumnRenamed('_c0', 'Polarity').withColumnRenamed('_c1', 'Title').withColumnRenamed('_c2', 'Review')\n",
        "amazon_reviews_df.show()"
      ]
    },
    {
      "cell_type": "markdown",
      "source": [
        "Renaming the columns _c0, _c1, _c2 as Polarity, Title and Review in the Test Set\n"
      ],
      "metadata": {
        "id": "a-bisvJX1DrG"
      }
    },
    {
      "cell_type": "code",
      "execution_count": null,
      "metadata": {
        "id": "4lUVIErx2pLl"
      },
      "outputs": [],
      "source": [
        "amazon_reviews_df_test = amazon_reviews_df_test.withColumnRenamed('_c0', 'Polarity').withColumnRenamed('_c1', 'Title').withColumnRenamed('_c2', 'Review')"
      ]
    },
    {
      "cell_type": "markdown",
      "source": [
        "### Converting labels from {1, 2} to {0, 1}"
      ],
      "metadata": {
        "id": "ZU5gaxJAe-0u"
      }
    },
    {
      "cell_type": "markdown",
      "source": [
        "Currently, the dataset has polarity with values 1 - which indicates Negative Sentiment and 2 - which indicates Postive Sentiment. Converting them to 1 - Positve Sentiment and 0 - Negative Sentiment for more meaningful representation"
      ],
      "metadata": {
        "id": "x-_f9UMn1J0h"
      }
    },
    {
      "cell_type": "code",
      "source": [
        "amazon_reviews_df = amazon_reviews_df.withColumn('Polarity', when(amazon_reviews_df.Polarity==1, 0).otherwise(1))\n",
        "amazon_reviews_df.show()"
      ],
      "metadata": {
        "colab": {
          "base_uri": "https://localhost:8080/"
        },
        "id": "5cfuNx7efEfp",
        "outputId": "f78b090d-5055-4bdc-d00c-9179c5eacc45"
      },
      "execution_count": null,
      "outputs": [
        {
          "output_type": "stream",
          "name": "stdout",
          "text": [
            "+--------+--------------------+--------------------+\n",
            "|Polarity|               Title|              Review|\n",
            "+--------+--------------------+--------------------+\n",
            "|       1|Stuning even for ...|This sound track ...|\n",
            "|       1|The best soundtra...|I'm reading a lot...|\n",
            "|       1|            Amazing!|\"This soundtrack ...|\n",
            "|       1|Excellent Soundtrack|I truly like this...|\n",
            "|       1|Remember, Pull Yo...|If you've played ...|\n",
            "|       1|an absolute maste...|I am quite sure a...|\n",
            "|       0|        Buyer beware|\"This is a self-p...|\n",
            "|       1|      Glorious story|I loved Whisper o...|\n",
            "|       1|    A FIVE STAR BOOK|I just finished r...|\n",
            "|       1|Whispers of the W...|This was a easy t...|\n",
            "|       0|          The Worst!|A complete waste ...|\n",
            "|       1|          Great book|This was a great ...|\n",
            "|       1|          Great Read|I thought this bo...|\n",
            "|       0|           Oh please|I guess you have ...|\n",
            "|       0|Awful beyond belief!|\"I feel I have to...|\n",
            "|       0|Don't try to fool...|It's glaringly ob...|\n",
            "|       1|A romantic zen ba...|\"When you hear fo...|\n",
            "|       1|Fashionable Compr...|After I had a DVT...|\n",
            "|       1|Jobst UltraSheer ...|Excellent product...|\n",
            "|       0|sizes recomended ...|sizes are much sm...|\n",
            "+--------+--------------------+--------------------+\n",
            "only showing top 20 rows\n",
            "\n"
          ]
        }
      ]
    },
    {
      "cell_type": "markdown",
      "source": [
        "Converting for text set as well"
      ],
      "metadata": {
        "id": "V1dB6lyI1lp9"
      }
    },
    {
      "cell_type": "code",
      "source": [
        "amazon_reviews_df_test = amazon_reviews_df_test.withColumn('Polarity', when(amazon_reviews_df_test.Polarity==1, 0).otherwise(1))\n",
        "amazon_reviews_df_test.show()"
      ],
      "metadata": {
        "colab": {
          "base_uri": "https://localhost:8080/"
        },
        "id": "xZ22w-dYfoZe",
        "outputId": "924c0fe6-3a3d-471e-95c7-bff15190d4bd"
      },
      "execution_count": null,
      "outputs": [
        {
          "output_type": "stream",
          "name": "stdout",
          "text": [
            "+--------+--------------------+--------------------+\n",
            "|Polarity|               Title|              Review|\n",
            "+--------+--------------------+--------------------+\n",
            "|       1|            Great CD|\"My lovely Pat ha...|\n",
            "|       1|One of the best g...|Despite the fact ...|\n",
            "|       0|Batteries died wi...|I bought this cha...|\n",
            "|       1|works fine, but M...|Check out Maha En...|\n",
            "|       1|Great for the non...|Reviewed quite a ...|\n",
            "|       0|DVD Player crappe...|I also began havi...|\n",
            "|       0|      Incorrect Disc|I love the style ...|\n",
            "|       0|DVD menu select p...|I cannot scroll t...|\n",
            "|       1|Unique Weird Orie...|\"Exotic tales of ...|\n",
            "|       0|\"Not an \"\"ultimat...|Firstly,I enjoyed...|\n",
            "|       1|Great book for tr...|I currently live ...|\n",
            "|       0|                Not!|If you want to li...|\n",
            "|       0|     A complete Bust|\"This game requir...|\n",
            "|       1|TRULY MADE A DIFF...|I have been using...|\n",
            "|       0|didn't run off of...|Was hoping that t...|\n",
            "|       0|          Don't buy!|First of all, the...|\n",
            "|       1|Simple, Durable, ...|This is an AWESOM...|\n",
            "|       1|Review of Kelly C...|For the price of ...|\n",
            "|       1|SOY UN APASIONADO...|Y ESTE LIBRO ESTÁ...|\n",
            "|       1|Some of the best ...|This is an excell...|\n",
            "+--------+--------------------+--------------------+\n",
            "only showing top 20 rows\n",
            "\n"
          ]
        }
      ]
    },
    {
      "cell_type": "markdown",
      "metadata": {
        "id": "hi9sYqceCaaC"
      },
      "source": [
        "### Dropping Null Values"
      ]
    },
    {
      "cell_type": "code",
      "execution_count": null,
      "metadata": {
        "id": "SIfIqZqi-clL"
      },
      "outputs": [],
      "source": [
        "# Delete null records\n",
        "amazon_reviews_df = amazon_reviews_df.dropna(how='any')"
      ]
    },
    {
      "cell_type": "markdown",
      "metadata": {
        "id": "qlefznh0C_Ro"
      },
      "source": [
        "### Data Visualisation"
      ]
    },
    {
      "cell_type": "markdown",
      "source": [
        "Checking number of reviews per each polarity"
      ],
      "metadata": {
        "id": "iH01rZsp1vZO"
      }
    },
    {
      "cell_type": "code",
      "execution_count": null,
      "metadata": {
        "colab": {
          "base_uri": "https://localhost:8080/"
        },
        "id": "EJIs0NOiDbr7",
        "outputId": "cec3ea05-7626-4b27-b195-1fd55f0230ca"
      },
      "outputs": [
        {
          "output_type": "stream",
          "name": "stdout",
          "text": [
            "+--------+--------------------+\n",
            "|Polarity|Reviews_Per_Polarity|\n",
            "+--------+--------------------+\n",
            "|       1|             1799970|\n",
            "|       0|             1799969|\n",
            "+--------+--------------------+\n",
            "\n"
          ]
        }
      ],
      "source": [
        "# Get total count of user reviews per each polarity\n",
        "amazon_reviews_count_per_polarity = amazon_reviews_df.groupBy(\"Polarity\").agg(count(\"*\").alias(\"Reviews_Per_Polarity\"))\n",
        "amazon_reviews_count_per_polarity.show()"
      ]
    },
    {
      "cell_type": "code",
      "execution_count": null,
      "metadata": {
        "colab": {
          "base_uri": "https://localhost:8080/",
          "height": 410
        },
        "id": "fFJafb4QEJtq",
        "outputId": "e9b056a6-8760-436b-94b2-bf7dcd67d86c"
      },
      "outputs": [
        {
          "output_type": "display_data",
          "data": {
            "text/plain": [
              "<Figure size 900x400 with 1 Axes>"
            ],
            "image/png": "[encoded data removed]"
          },
          "metadata": {}
        }
      ],
      "source": [
        "# Plotting the results\n",
        "polarity_sentiment = dict({1:'Positive', 0:'Negative'})\n",
        "amazon_reviews_count_per_polarity_data = amazon_reviews_count_per_polarity.collect()\n",
        "polarities = [polarity_sentiment[row[\"Polarity\"]] for row in amazon_reviews_count_per_polarity_data]\n",
        "reviews_count_per_polarity = [row[\"Reviews_Per_Polarity\"] for row in amazon_reviews_count_per_polarity_data]\n",
        "\n",
        "plt.figure(figsize=(9, 4))\n",
        "\n",
        "plt.bar(polarities, reviews_count_per_polarity)\n",
        "plt.xlabel(\"User Polarity\")\n",
        "plt.ylabel(\"User-Reviews\")\n",
        "plt.title(\"User-Reviews Per Polarity\")\n",
        "\n",
        "plt.show()"
      ]
    },
    {
      "cell_type": "markdown",
      "metadata": {
        "id": "O-bSRqjjDEEV"
      },
      "source": [
        "### Data Exploration"
      ]
    },
    {
      "cell_type": "markdown",
      "metadata": {
        "id": "-Duf4C4eDG2h"
      },
      "source": [
        "#### Total Count"
      ]
    },
    {
      "cell_type": "code",
      "execution_count": null,
      "metadata": {
        "colab": {
          "base_uri": "https://localhost:8080/"
        },
        "id": "5tM1VUOJDOE5",
        "outputId": "95acfb94-44aa-47de-b3cb-1e51633df811"
      },
      "outputs": [
        {
          "output_type": "execute_result",
          "data": {
            "text/plain": [
              "3599939"
            ]
          },
          "metadata": {},
          "execution_count": 17
        }
      ],
      "source": [
        "# Checking the total count of Amazon reviews\n",
        "amazon_reviews_df.count()"
      ]
    },
    {
      "cell_type": "markdown",
      "metadata": {
        "id": "-r7l-fACL4oV"
      },
      "source": [
        "#### Most Frequent Words in Title"
      ]
    },
    {
      "cell_type": "markdown",
      "source": [
        "Analyzing the top 100 most frequent words present in the Title Column"
      ],
      "metadata": {
        "id": "baP7vQNw2LsZ"
      }
    },
    {
      "cell_type": "code",
      "execution_count": null,
      "metadata": {
        "colab": {
          "base_uri": "https://localhost:8080/"
        },
        "id": "wQlTNc8E3kAY",
        "outputId": "875d12d4-f70c-40d9-b160-2cc1f4973c33"
      },
      "outputs": [
        {
          "data": {
            "text/plain": [
              "[('GREAT', 251169),\n",
              " ('THIS', 205179),\n",
              " ('GOOD', 177834),\n",
              " ('BOOK', 131029),\n",
              " ('VERY', 99145),\n",
              " ('BEST', 85128),\n",
              " ('WHAT', 74862),\n",
              " ('WITH', 69026),\n",
              " (\"DON'T\", 65282),\n",
              " ('YOUR', 57008),\n",
              " ('LOVE', 53830),\n",
              " ('EXCELLENT', 48455),\n",
              " ('READ', 47297),\n",
              " ('PRODUCT', 46449),\n",
              " ('MOVIE', 45450),\n",
              " ('HAVE', 44515),\n",
              " ('WASTE', 41591),\n",
              " ('LIKE', 41391),\n",
              " ('JUST', 40136),\n",
              " ('MONEY', 39911),\n",
              " ('FROM', 38623),\n",
              " ('POOR', 38008),\n",
              " ('WORK', 35141),\n",
              " ('WORTH', 34677),\n",
              " ('QUALITY', 34668),\n",
              " ('BETTER', 34148),\n",
              " ('EVER', 33850),\n",
              " ('TIME', 33002),\n",
              " ('THAT', 31382),\n",
              " ('NICE', 30872),\n",
              " ('THAN', 30421),\n",
              " (\"IT'S\", 30269),\n",
              " ('WORKS', 28789),\n",
              " ('MORE', 27664),\n",
              " ('DOES', 26961),\n",
              " ('WORST', 26109),\n",
              " ('REALLY', 25546),\n",
              " ('DISAPPOINTED', 24558),\n",
              " ('LITTLE', 24530),\n",
              " ('REVIEW', 24519),\n",
              " ('DISAPPOINTING', 24270),\n",
              " ('ONLY', 22986),\n",
              " ('MUST', 22788),\n",
              " ('ABOUT', 22644),\n",
              " ('MUCH', 22444),\n",
              " ('WELL', 21954),\n",
              " (\"DOESN'T\", 20900),\n",
              " ('PRICE', 20518),\n",
              " ('ALBUM', 20314),\n",
              " ('TERRIBLE', 20072),\n",
              " ('AWESOME', 19448),\n",
              " ('ANOTHER', 19295),\n",
              " ('STORY', 18889),\n",
              " ('WONDERFUL', 18815),\n",
              " ('GAME', 18637),\n",
              " ('FIRST', 18569),\n",
              " ('MUSIC', 18449),\n",
              " ('PERFECT', 18042),\n",
              " ('HORRIBLE', 17557),\n",
              " ('AFTER', 16937),\n",
              " ('WILL', 16722),\n",
              " (\"DIDN'T\", 16622),\n",
              " ('CLASSIC', 16488),\n",
              " ('BORING', 16279),\n",
              " ('COULD', 15662),\n",
              " ('NEVER', 15544),\n",
              " ('THEY', 15506),\n",
              " ('SHOULD', 15448),\n",
              " ('STILL', 15391),\n",
              " ('BOOK!', 15312),\n",
              " ('EASY', 15301),\n",
              " ('MADE', 14329),\n",
              " ('PRETTY', 14063),\n",
              " ('REAL', 14048),\n",
              " ('WOULD', 13927),\n",
              " (\"CAN'T\", 13810),\n",
              " ('EVEN', 13809),\n",
              " ('THESE', 13570),\n",
              " ('AMAZING', 13443),\n",
              " ('JUNK', 13317),\n",
              " ('LIFE', 13196),\n",
              " (\"I'VE\", 12522),\n",
              " ('SOME', 12471),\n",
              " ('CHEAP', 12447),\n",
              " ('WRONG', 12390),\n",
              " ('BEAUTIFUL', 12336),\n",
              " ('PIECE', 12304),\n",
              " ('DISAPPOINTMENT', 12119),\n",
              " ('MOST', 12113),\n",
              " ('EXPECTED', 12017),\n",
              " ('FAVORITE', 11964),\n",
              " ('INTERESTING', 11893),\n",
              " ('THERE', 11855),\n",
              " ('HARD', 11488),\n",
              " ('SERIES', 11190),\n",
              " ('STARS', 11156),\n",
              " ('WATCH', 10887),\n",
              " ('LOVED', 10832),\n",
              " ('BACK', 10776),\n",
              " ('SOUND', 10704)]"
            ]
          },
          "execution_count": 15,
          "metadata": {},
          "output_type": "execute_result"
        }
      ],
      "source": [
        "# Getting the top 100 most frequent words from the Title column\n",
        "title_rdd = amazon_reviews_df.rdd.map(lambda row: row.Title)\n",
        "title_word_counts = title_rdd.flatMap(lambda title: title.split(\" \"))\\\n",
        "                             .filter(lambda word: len(word) > 3)\\\n",
        "                             .map(lambda word: (word.upper(), 1))\\\n",
        "                             .reduceByKey(lambda w1, w2: w1 + w2)\n",
        "top_100_frequent_words_in_title = title_word_counts.sortBy(lambda record: -record[1]).take(100)\n",
        "top_100_frequent_words_in_title"
      ]
    },
    {
      "cell_type": "markdown",
      "metadata": {
        "id": "4JCRtRj3L-RB"
      },
      "source": [
        "#### Most Frequent Words in Reviews"
      ]
    },
    {
      "cell_type": "markdown",
      "source": [
        "Analyzing the top 100 most frequent words present in the reviews column"
      ],
      "metadata": {
        "id": "lpA2Yixm2c4d"
      }
    },
    {
      "cell_type": "code",
      "execution_count": null,
      "metadata": {
        "colab": {
          "base_uri": "https://localhost:8080/"
        },
        "id": "WK-szVgc9JsL",
        "outputId": "7d094e04-9111-43c8-d77c-d3e730c02be0"
      },
      "outputs": [
        {
          "data": {
            "text/plain": [
              "[('this', 4330290),\n",
              " ('that', 2345438),\n",
              " ('with', 1760469),\n",
              " ('have', 1628407),\n",
              " ('book', 1221556),\n",
              " ('very', 870202),\n",
              " ('they', 868610),\n",
              " ('like', 835419),\n",
              " ('from', 788861),\n",
              " ('just', 786522),\n",
              " ('would', 732961),\n",
              " ('about', 695807),\n",
              " ('good', 625070),\n",
              " ('when', 613395),\n",
              " ('will', 603066),\n",
              " ('great', 594379),\n",
              " ('what', 568771),\n",
              " ('more', 562081),\n",
              " (\"it's\", 553141),\n",
              " ('only', 538189),\n",
              " ('your', 504208),\n",
              " ('some', 485481),\n",
              " ('really', 481014),\n",
              " ('there', 479336),\n",
              " ('read', 460868),\n",
              " ('than', 440860),\n",
              " (\"don't\", 422905),\n",
              " ('even', 419317),\n",
              " ('other', 419054),\n",
              " ('because', 406844),\n",
              " ('these', 406035),\n",
              " ('after', 401143),\n",
              " ('first', 399524),\n",
              " ('were', 390383),\n",
              " ('much', 385810),\n",
              " ('time', 377657),\n",
              " ('been', 370215),\n",
              " ('movie', 344399),\n",
              " ('bought', 343096),\n",
              " ('love', 341198),\n",
              " ('their', 335595),\n",
              " ('them', 330592),\n",
              " ('which', 321012),\n",
              " ('could', 307767),\n",
              " ('well', 292205),\n",
              " ('then', 285675),\n",
              " ('many', 284051),\n",
              " ('little', 283393),\n",
              " ('into', 280240),\n",
              " ('also', 280218),\n",
              " ('think', 270102),\n",
              " ('does', 266659),\n",
              " ('most', 259945),\n",
              " ('make', 259906),\n",
              " ('never', 258925),\n",
              " ('better', 255642),\n",
              " ('over', 251260),\n",
              " ('product', 246025),\n",
              " ('best', 244928),\n",
              " ('still', 240310),\n",
              " ('know', 239136),\n",
              " ('should', 231634),\n",
              " ('back', 230358),\n",
              " ('want', 230200),\n",
              " ('find', 226779),\n",
              " ('recommend', 222581),\n",
              " ('work', 222310),\n",
              " (\"i've\", 219296),\n",
              " ('book.', 218558),\n",
              " ('story', 217672),\n",
              " ('made', 216138),\n",
              " ('used', 215496),\n",
              " ('found', 211029),\n",
              " (\"didn't\", 209566),\n",
              " ('people', 206267),\n",
              " ('every', 191136),\n",
              " ('through', 190633),\n",
              " ('album', 189968),\n",
              " ('same', 188256),\n",
              " ('ever', 186399),\n",
              " (\"can't\", 184075),\n",
              " ('another', 182224),\n",
              " ('reading', 181182),\n",
              " ('thought', 178520),\n",
              " ('books', 174865),\n",
              " ('while', 174531),\n",
              " ('music', 174053),\n",
              " ('before', 171946),\n",
              " ('years', 168244),\n",
              " (\"doesn't\", 166964),\n",
              " ('easy', 163258),\n",
              " ('something', 163145),\n",
              " ('going', 157519),\n",
              " ('worth', 156622),\n",
              " ('since', 156171),\n",
              " ('give', 156047),\n",
              " ('being', 155760),\n",
              " ('quality', 155422),\n",
              " ('those', 154394),\n",
              " ('game', 153492)]"
            ]
          },
          "execution_count": 16,
          "metadata": {},
          "output_type": "execute_result"
        }
      ],
      "source": [
        "# Getting the top 100 most frequent words from the Reviews column\n",
        "reviews_rdd = amazon_reviews_df.rdd.map(lambda row: row.Review)\n",
        "reviews_word_counts = reviews_rdd.flatMap(lambda review: review.split(\" \"))\\\n",
        "                             .filter(lambda word: len(word) > 3)\\\n",
        "                             .map(lambda word: (word.lower(), 1))\\\n",
        "                             .reduceByKey(lambda w1, w2: w1 + w2)\n",
        "top_100_frequent_words_in_reviews = reviews_word_counts.sortBy(lambda record: -record[1]).take(100)\n",
        "top_100_frequent_words_in_reviews"
      ]
    },
    {
      "cell_type": "markdown",
      "metadata": {
        "id": "2Rqvr46JMI-S"
      },
      "source": [
        "#### Most Frequent Bigrams in Title"
      ]
    },
    {
      "cell_type": "markdown",
      "source": [
        "Analyzing the top 100 most frequent Bigrams(consecutive words of length 2) present in the Title."
      ],
      "metadata": {
        "id": "o6_pAZjj2jCV"
      }
    },
    {
      "cell_type": "code",
      "execution_count": null,
      "metadata": {
        "id": "mo6JP6r6APJK"
      },
      "outputs": [],
      "source": [
        "# Function which will return all the bigrams from a given review\n",
        "\n",
        "def get_bigrams_words(review):\n",
        "  bigram_words = []\n",
        "  review_words = review.split()\n",
        "  for i in range(0, len(review_words) - 1):\n",
        "    bigram_words.append(review_words[i] + ' ' + review_words[i+1])\n",
        "  return bigram_words"
      ]
    },
    {
      "cell_type": "code",
      "execution_count": null,
      "metadata": {
        "colab": {
          "background_save": true
        },
        "id": "RJxA7xoVB4sY",
        "outputId": "be1ebe33-e196-4ffc-92de-0730c09420cc"
      },
      "outputs": [
        {
          "data": {
            "text/plain": [
              "[('OF THE', 53049),\n",
              " ('THE BEST', 39890),\n",
              " ('FOR THE', 37595),\n",
              " ('THIS IS', 30289),\n",
              " ('A GREAT', 29398),\n",
              " ('THIS BOOK', 27864),\n",
              " ('ONE OF', 25728),\n",
              " ('IS A', 23583),\n",
              " ('A GOOD', 22006),\n",
              " ('DO NOT', 21931),\n",
              " ('WASTE OF', 21322),\n",
              " ('IN THE', 20780),\n",
              " ('NOT A', 19984),\n",
              " ('NOT WORTH', 18979),\n",
              " ('WHAT I', 18576),\n",
              " ('FOR A', 18219),\n",
              " ('IF YOU', 18070),\n",
              " ('WASTE YOUR', 17440),\n",
              " ('WHAT A', 15697),\n",
              " ('BUT NOT', 15620),\n",
              " ('BUY THIS', 15405),\n",
              " ('DOES NOT', 15121),\n",
              " ('NOT THE', 15011),\n",
              " ('TO THE', 14930),\n",
              " ('NOT WHAT', 14843),\n",
              " (\"DON'T WASTE\", 14656),\n",
              " ('WORTH THE', 14575),\n",
              " ('NOT FOR', 14573),\n",
              " ('YOUR MONEY', 14182),\n",
              " ('IS THE', 14164),\n",
              " ('VERY GOOD', 14125),\n",
              " (\"DON'T BUY\", 13997),\n",
              " ('GREAT FOR', 13868),\n",
              " ('TO BE', 12937),\n",
              " ('NOT AS', 12879),\n",
              " ('A MUST', 12849),\n",
              " ('ON THE', 12799),\n",
              " ('IS NOT', 12786),\n",
              " ('GREAT BOOK', 12505),\n",
              " ('OF A', 12105),\n",
              " ('NOT BUY', 11847),\n",
              " ('LOVE THIS', 11366),\n",
              " ('BETTER THAN', 11147),\n",
              " ('I LOVE', 11128),\n",
              " ('THE WORST', 11038),\n",
              " ('PIECE OF', 10679),\n",
              " ('I HAVE', 10541),\n",
              " ('BOOK FOR', 10469),\n",
              " ('GOOD FOR', 10091),\n",
              " ('POOR QUALITY', 9478),\n",
              " ('. .', 9252),\n",
              " ('DID NOT', 9127),\n",
              " ('NOT WORK', 9074),\n",
              " ('BOOK IS', 9064),\n",
              " ('GREAT PRODUCT', 8912),\n",
              " ('IT IS', 8898),\n",
              " ('OF MONEY', 8729),\n",
              " ('IT WAS', 8472),\n",
              " ('THE PRICE', 8471),\n",
              " ('IN A', 8420),\n",
              " ('A VERY', 8382),\n",
              " ('A LITTLE', 8297),\n",
              " ('NOT SO', 8139),\n",
              " ('GOOD AS', 8064),\n",
              " ('AS GOOD', 8001),\n",
              " ('OUT OF', 7988),\n",
              " ('THE MONEY', 7928),\n",
              " ('GOOD BOOK', 7720),\n",
              " ('SAVE YOUR', 7696),\n",
              " ('I WAS', 7689),\n",
              " ('I EXPECTED', 7592),\n",
              " ('EASY TO', 7578),\n",
              " ('WHAT YOU', 7561),\n",
              " ('FROM THE', 7312),\n",
              " ('WITH A', 7147),\n",
              " ('FOR ME', 6997),\n",
              " ('THE BOOK', 6980),\n",
              " ('HARD TO', 6736),\n",
              " ('NOT VERY', 6722),\n",
              " ('THIS ONE', 6709),\n",
              " ('OF TIME', 6708),\n",
              " ('WITH THE', 6691),\n",
              " ('THIS MOVIE', 6683),\n",
              " ('MUST HAVE', 6382),\n",
              " ('OF MY', 6353),\n",
              " ('LOVE IT', 6286),\n",
              " (\"DOESN'T WORK\", 6249),\n",
              " ('NOT GOOD', 6234),\n",
              " ('AT ALL', 6220),\n",
              " ('MY FAVORITE', 6199),\n",
              " ('FOR MY', 6165),\n",
              " ('TOO MUCH', 6163),\n",
              " ('A WASTE', 6107),\n",
              " ('A BOOK', 6051),\n",
              " ('AND THE', 5968),\n",
              " ('THE FIRST', 5764),\n",
              " ('LOVE IT!', 5529),\n",
              " (\"I'VE EVER\", 5512),\n",
              " ('THE MOST', 5444),\n",
              " ('TO READ', 5372)]"
            ]
          },
          "execution_count": 18,
          "metadata": {},
          "output_type": "execute_result"
        }
      ],
      "source": [
        "# Getting the top 100 most frequent bigrams from Title column\n",
        "title_bigrams_word_counts = title_rdd.flatMap(lambda title: get_bigrams_words(title))\\\n",
        "                             .map(lambda bigram: (bigram.upper(), 1))\\\n",
        "                             .reduceByKey(lambda b1, b2: b1 + b2)\n",
        "top_100_frequent_bigrams_in_title = title_bigrams_word_counts.sortBy(lambda record: -record[1]).take(100)\n",
        "top_100_frequent_bigrams_in_title"
      ]
    },
    {
      "cell_type": "markdown",
      "metadata": {
        "id": "VsTCmaXlMvfG"
      },
      "source": [
        "#### Most Frequent Bigrams in Reviews"
      ]
    },
    {
      "cell_type": "markdown",
      "source": [
        "Analyzing the top 100 most frequent bigrams present in the Reviews column"
      ],
      "metadata": {
        "id": "HALdZ6FI4nRK"
      }
    },
    {
      "cell_type": "code",
      "execution_count": null,
      "metadata": {
        "colab": {
          "background_save": true
        },
        "id": "5BF5xbN3LXgQ",
        "outputId": "83aa5fa8-dab3-422e-d861-f2d3a434662f"
      },
      "outputs": [
        {
          "data": {
            "text/plain": [
              "[('of the', 1234037),\n",
              " ('in the', 735264),\n",
              " ('is a', 620650),\n",
              " ('this book', 572087),\n",
              " ('it is', 568506),\n",
              " ('this is', 527706),\n",
              " ('i have', 501409),\n",
              " ('and the', 478704),\n",
              " ('on the', 446458),\n",
              " ('i was', 425786),\n",
              " ('to the', 422900),\n",
              " ('it was', 420998),\n",
              " ('if you', 405274),\n",
              " ('to be', 379509),\n",
              " ('for the', 365228),\n",
              " ('and i', 350828),\n",
              " ('with the', 327293),\n",
              " ('for a', 295656),\n",
              " ('i am', 283553),\n",
              " ('is the', 278638),\n",
              " ('the book', 266464),\n",
              " ('one of', 262641),\n",
              " ('i would', 247842),\n",
              " ('and it', 230406),\n",
              " ('a great', 229580),\n",
              " ('is not', 226191),\n",
              " ('in a', 224771),\n",
              " ('that i', 221041),\n",
              " ('was a', 219275),\n",
              " ('i had', 212366),\n",
              " ('as a', 211373),\n",
              " ('book is', 206881),\n",
              " ('the first', 204384),\n",
              " ('but i', 203357),\n",
              " ('from the', 202665),\n",
              " ('i bought', 202579),\n",
              " ('a good', 194130),\n",
              " ('when i', 193328),\n",
              " ('to get', 191732),\n",
              " ('all the', 188434),\n",
              " ('with a', 188295),\n",
              " ('have to', 187207),\n",
              " ('of a', 179226),\n",
              " ('at the', 177140),\n",
              " ('of this', 172649),\n",
              " ('that the', 172462),\n",
              " ('the best', 167614),\n",
              " ('the same', 163184),\n",
              " ('in this', 160623),\n",
              " ('have been', 157894),\n",
              " ('out of', 150498),\n",
              " ('a lot', 149922),\n",
              " ('for my', 148378),\n",
              " ('there is', 148232),\n",
              " ('but the', 147252),\n",
              " ('you are', 147060),\n",
              " ('they are', 146325),\n",
              " ('a little', 145751),\n",
              " ('a few', 145586),\n",
              " ('but it', 145455),\n",
              " ('want to', 145038),\n",
              " ('it to', 142624),\n",
              " ('bought this', 142304),\n",
              " ('have a', 141252),\n",
              " ('in my', 135467),\n",
              " ('you can', 134577),\n",
              " ('that it', 134150),\n",
              " ('this movie', 133256),\n",
              " ('so i', 133140),\n",
              " (\"i don't\", 131178),\n",
              " ('i think', 129933),\n",
              " ('the only', 124618),\n",
              " ('i love', 124248),\n",
              " ('would be', 122781),\n",
              " ('a very', 122595),\n",
              " ('this one', 121082),\n",
              " ('there are', 121045),\n",
              " ('did not', 118949),\n",
              " ('and a', 118396),\n",
              " ('do not', 118034),\n",
              " ('is very', 117865),\n",
              " ('of my', 117785),\n",
              " ('i can', 116971),\n",
              " ('does not', 116414),\n",
              " ('you have', 115457),\n",
              " ('easy to', 115020),\n",
              " ('had to', 115012),\n",
              " ('on this', 114945),\n",
              " ('with this', 114467),\n",
              " ('be a', 113424),\n",
              " ('that is', 112796),\n",
              " ('by the', 111061),\n",
              " ('about the', 110962),\n",
              " ('it has', 110773),\n",
              " ('i found', 110756),\n",
              " ('like the', 110668),\n",
              " ('lot of', 110015),\n",
              " ('to see', 109783),\n",
              " ('this product', 109584),\n",
              " ('the other', 108576)]"
            ]
          },
          "execution_count": 19,
          "metadata": {},
          "output_type": "execute_result"
        }
      ],
      "source": [
        "# Getting the top 100 most frequent bigrams present in the Reviews column\n",
        "reviews_bigrams_word_counts = reviews_rdd.flatMap(lambda review: get_bigrams_words(review))\\\n",
        "                             .map(lambda bigram: (bigram.lower(), 1))\\\n",
        "                             .reduceByKey(lambda b1, b2: b1 + b2)\n",
        "top_100_frequent_bigrams_in_reviews = reviews_bigrams_word_counts.sortBy(lambda record: -record[1]).take(100)\n",
        "top_100_frequent_bigrams_in_reviews"
      ]
    },
    {
      "cell_type": "markdown",
      "source": [
        "## Planned implementation\n",
        "\n",
        "The dataset is explored first by analyzing the top 100 most frequent words and bigrams present in the user reviews. Since the dataset contains words, we need to convert them to a suitable numerical format before training with a Machine learning model. I will be using the below pre-processing stages first inorder to convert the input suitable for training the ML model.\n",
        "\n",
        "### Preprocessing\n",
        "\n",
        "1.   **Combining the Title and Review Column** : The dataset contains two columns Title and Review and both these columns contribute to the users sentiment. Hence I will be concatinating both these columns to a single column User Opinions and use that final column for my further pre-processing\n",
        "\n",
        "2.   **Tokenising the reviews** : The User opinions text is split into individual meaningful units such as words or tokens and it is a crucial step in coverting text to numerical format.\n",
        "3.   **Removing the stop Words** : Once the text is converted to tokens, stop words removing is crucial in sentiment analysis which involves removing irrevelant words such as 'the', 'it', 'of', 'a', 'an' etc.., which do not convey much sentiment. Also removing the stop words reduces the total input dataset supplied to the ML model as input which decreases the computational complexity.\n",
        "4.   **Converting the tokens to a numerical format** : There are several methods for converting the tokens into a numerical format such as TF-IDF vectors, Word2Vec etc.., TF-IDF involves calculating the Term Frequency of each word and multiplying with it Inverse Document Frequency(denotes the rarity of the word across all the reviews). Although this method is fast, it fails to capture the semantic relationship between the words. So I will be using Word2Vec for converting the tokens into Word Embeddings. In Word2Vec, first a neural network is trained on large amount of text data to predict the context of a word based on its surrrounding words and then the word embeddings are extracted from the weights learned during the training of the neural network. I will be first training the Word2Vec on my User Opinions text data and finally I will be transforming them using the trained Word2Vec model to generate the word embeddings.\n",
        "5.   **Scaling the features and Assembling them**: I will be scaling all the features and assembling them to a single column using Vector Assembler.\n",
        "6.   **Assigning class weights to handle the class imbalance** : During training the model, the ML models will might be biased towards the class with higher number of training samples while minimizing the loss function. Hence I will be assigning the class weights to address this issue.\n",
        "7.   **Train, Validation Split**: Finally, I will be splitting the data into training and validation sets before training the ML models.\n",
        "8.   **Sampling data for hyper parameter tuning**: To find out the optimal hyperparameters, I will be tuning the hyper parameters with a sample of data from the training set since it is computationally expensive for hyper tuning with the full dataset. After finding the optimal hyper parameters, I will be training the model with the full dataset using the optimal hyperparameters.\n",
        "\n",
        "### Training with ML Models\n",
        "\n",
        "I will be using the spark MLlib to train 3 ML models with the pre-processed data. Initially, I will be tuning the hyperparameters by training the model with different parameters on sampled training data and evaluating its performance against sampled validation data. Once, the optimal hyperparameters were found, I will be training the model with the training data and evaluate it's performace on validation data for all the 3 models and finally select one best model. I will be training the below ML models.\n",
        "\n",
        "1.   **Random Forest Classifier** : Since the word embeddings were of high dimensions it can handle high dimensional data and extract relevant features to make accurate predictions. Since Random Forest uses multiple decision trees to predict the output it reduces overfitting and is robust to noise. I will be tuning the hyper parameters **maxDepth** - which indicates the maximum tree depth of the decision trees constructed by the Random Forest and **numTrees** - which indicates the total number of decision trees built by Random Forest Classifier.\n",
        "2.   **Logistic Regression** : I will be using Logistic Regression since it can scale to large datasets efficiently and it will work very well for binary classification tasks. Unlike decision trees which will just classify as Positive or Negative, it will also provide probabilities of class category which indicates the degree of positivity and negativity. I will be tuning the hyper parameters **regParam** which controls the amount of regularization (a technique to prevent overfitting by adding a penality term to the loss function that depends on the coefficients of the model) and **elasticNetParam** which controls the balance between L1 and L2 regularization.\n",
        "3.   **Support Vector Classifier** : I will be using Support Vector Classifier since it can handle high dimensionality very well and is a scalable algorithm just like Logistic Regression. It provides a flexible decision boundary which will seperate the sentiments of the reviews (Positive/Negative) and it can handle non linear relationships very well. I will be tuning the hyper parameters **regParam** which controls the amount of regularization and **maxIter** which controls the maximum number of iterations used by the optimization algorithm to find the optimal solution (which reduces loss function).\n",
        "\n",
        "Then the best model will be trained with the full dataset(train + validation) and will be evaluated against the test set."
      ],
      "metadata": {
        "id": "HY_USh_QphoT"
      }
    },
    {
      "cell_type": "markdown",
      "source": [
        "# Component 2: Implementation"
      ],
      "metadata": {
        "id": "w3aGIEtiIbR1"
      }
    },
    {
      "cell_type": "markdown",
      "source": [
        "Running the notebook for the full dataset takes a lot of time and also utilizes a lot of memory. Hence running the notebook for a sample data due to time and memory constraints."
      ],
      "metadata": {
        "id": "w26Eo5kBlo8x"
      }
    },
    {
      "cell_type": "code",
      "execution_count": null,
      "metadata": {
        "id": "Q2A5DNoh0brw"
      },
      "outputs": [],
      "source": [
        "# Taking a fraction of data from the original dataset.\n",
        "amazon_reviews_df = amazon_reviews_df.sampleBy('Polarity', fractions = {0:0.10, 1:0.10}).cache()\n",
        "amazon_reviews_df_test = amazon_reviews_df_test.sampleBy('Polarity', fractions = {0:0.10, 1:0.10}).cache()"
      ]
    },
    {
      "cell_type": "markdown",
      "metadata": {
        "id": "5qLhVEEE2R0M"
      },
      "source": [
        "## Data Preprocessing"
      ]
    },
    {
      "cell_type": "code",
      "execution_count": null,
      "metadata": {
        "colab": {
          "base_uri": "https://localhost:8080/"
        },
        "id": "9Q5vQlUWAHKh",
        "outputId": "a042365e-e6fb-453e-b508-30652128355d"
      },
      "outputs": [
        {
          "output_type": "stream",
          "name": "stdout",
          "text": [
            "+--------+--------------------+--------------------+\n",
            "|Polarity|               Title|              Review|\n",
            "+--------+--------------------+--------------------+\n",
            "|       1|The best soundtra...|I'm reading a lot...|\n",
            "|       1|    A FIVE STAR BOOK|I just finished r...|\n",
            "|       0|sizes recomended ...|sizes are much sm...|\n",
            "|       0|        Mind numbing|This game makes y...|\n",
            "|       0|      *** BEWARE ***|\"This TV is set s...|\n",
            "|       1|     Homer or Moses?|An extremely help...|\n",
            "|       0|  Very poor quality.|\"The screen arriv...|\n",
            "|       1|              YES!!!|When I got this b...|\n",
            "|       0|Too Uncomfortable...|These pants were ...|\n",
            "|       0|     I got fooled...|I did not know th...|\n",
            "|       0|Excellent book, v...|Yet another examp...|\n",
            "|       1|I found it! Henry...|\"I had two Henry ...|\n",
            "|       1|A Contemporary Fa...|While this book i...|\n",
            "|       0|Not professional ...|I first tried buy...|\n",
            "|       0|     Great for Twins|I purchased the A...|\n",
            "|       1|They're blocks - ...|\"We got these aft...|\n",
            "|       0|   It's a knock off.|\"The official Chr...|\n",
            "|       1|NOT the worst Ame...|This movie was a ...|\n",
            "|       0|Unmasked............|Sadly, there is a...|\n",
            "|       0|If it ain't broke...|I have been using...|\n",
            "+--------+--------------------+--------------------+\n",
            "only showing top 20 rows\n",
            "\n"
          ]
        }
      ],
      "source": [
        "amazon_reviews_df.show()"
      ]
    },
    {
      "cell_type": "code",
      "execution_count": null,
      "metadata": {
        "id": "SgafM_zs5iua"
      },
      "outputs": [],
      "source": [
        "# Initially I will be performing operations on the preprocess dataframe, later I will create a pipeline to automate the pre-processing steps for the original dataframe.\n",
        "amazon_reviews_df_to_preprocess = amazon_reviews_df"
      ]
    },
    {
      "cell_type": "markdown",
      "source": [
        "Concatinating Title and Review into one column - User_Opinion"
      ],
      "metadata": {
        "id": "oQvXt9Wnm2KQ"
      }
    },
    {
      "cell_type": "code",
      "execution_count": null,
      "metadata": {
        "colab": {
          "base_uri": "https://localhost:8080/"
        },
        "id": "BvxMIc8b3nae",
        "outputId": "872f868e-044b-4120-9ac1-a21a659ab7c8"
      },
      "outputs": [
        {
          "output_type": "stream",
          "name": "stdout",
          "text": [
            "+--------+--------------------+\n",
            "|Polarity|        User_Opinion|\n",
            "+--------+--------------------+\n",
            "|       1|The best soundtra...|\n",
            "|       1|A FIVE STAR BOOK ...|\n",
            "|       0|sizes recomended ...|\n",
            "|       0|Mind numbing . Th...|\n",
            "|       0|*** BEWARE *** . ...|\n",
            "|       1|Homer or Moses? ....|\n",
            "|       0|Very poor quality...|\n",
            "|       1|YES!!! . When I g...|\n",
            "|       0|Too Uncomfortable...|\n",
            "|       0|I got fooled... ....|\n",
            "|       0|Excellent book, v...|\n",
            "|       1|I found it! Henry...|\n",
            "|       1|A Contemporary Fa...|\n",
            "|       0|Not professional ...|\n",
            "|       0|Great for Twins ....|\n",
            "|       1|They're blocks - ...|\n",
            "|       0|It's a knock off....|\n",
            "|       1|NOT the worst Ame...|\n",
            "|       0|Unmasked............|\n",
            "|       0|If it ain't broke...|\n",
            "+--------+--------------------+\n",
            "only showing top 20 rows\n",
            "\n"
          ]
        }
      ],
      "source": [
        "amazon_reviews_df_to_preprocess = amazon_reviews_df_to_preprocess.withColumn(\"User_Opinion\", concat(col(\"Title\"), lit(\" . \"), col(\"Review\")))\n",
        "amazon_reviews_df_to_preprocess = amazon_reviews_df_to_preprocess.select('Polarity', 'User_Opinion')\n",
        "amazon_reviews_df_to_preprocess.show()"
      ]
    },
    {
      "cell_type": "markdown",
      "source": [
        "Splitting the column - User_Opinion into multiple tokens - User_Opinion_Tokens (individual words/ smaller units)"
      ],
      "metadata": {
        "id": "R6Mc6MMrm-fT"
      }
    },
    {
      "cell_type": "code",
      "execution_count": null,
      "metadata": {
        "colab": {
          "base_uri": "https://localhost:8080/"
        },
        "id": "vT3Fdf1g4tbE",
        "outputId": "f9b908a2-8ab3-4408-dc6f-44351a25f27e"
      },
      "outputs": [
        {
          "output_type": "stream",
          "name": "stdout",
          "text": [
            "+--------+--------------------+\n",
            "|Polarity| User_Opinion_Tokens|\n",
            "+--------+--------------------+\n",
            "|       1|[the, best, sound...|\n",
            "|       1|[a, five, star, b...|\n",
            "|       0|[sizes, recomende...|\n",
            "|       0|[mind, numbing, ....|\n",
            "|       0|[***, beware, ***...|\n",
            "|       1|[homer, or, moses...|\n",
            "|       0|[very, poor, qual...|\n",
            "|       1|[yes!!!, ., when,...|\n",
            "|       0|[too, uncomfortab...|\n",
            "|       0|[i, got, fooled.....|\n",
            "|       0|[excellent, book,...|\n",
            "|       1|[i, found, it!, h...|\n",
            "|       1|[a, contemporary,...|\n",
            "|       0|[not, professiona...|\n",
            "|       0|[great, for, twin...|\n",
            "|       1|[they're, blocks,...|\n",
            "|       0|[it's, a, knock, ...|\n",
            "|       1|[not, the, worst,...|\n",
            "|       0|[unmasked...........|\n",
            "|       0|[if, it, ain't, b...|\n",
            "+--------+--------------------+\n",
            "only showing top 20 rows\n",
            "\n"
          ]
        }
      ],
      "source": [
        "amazon_reviews_tokenizer = Tokenizer(inputCol='User_Opinion', outputCol='User_Opinion_Tokens')\n",
        "amazon_reviews_df_to_preprocess = amazon_reviews_tokenizer.transform(amazon_reviews_df_to_preprocess).select('Polarity', 'User_Opinion_Tokens')\n",
        "amazon_reviews_df_to_preprocess.show()"
      ]
    },
    {
      "cell_type": "markdown",
      "source": [
        "Removing the stop words from the User_Opinion_Tokens column"
      ],
      "metadata": {
        "id": "8tWVVGhindlb"
      }
    },
    {
      "cell_type": "code",
      "execution_count": null,
      "metadata": {
        "colab": {
          "base_uri": "https://localhost:8080/"
        },
        "id": "2cPDCreh6Jjl",
        "outputId": "7326a86c-b732-4557-f91c-079c2a942831"
      },
      "outputs": [
        {
          "output_type": "stream",
          "name": "stdout",
          "text": [
            "+--------+---------------------------+\n",
            "|Polarity|User_Opinion_Filterd_Tokens|\n",
            "+--------+---------------------------+\n",
            "|       1|       [best, soundtrack...|\n",
            "|       1|       [five, star, book...|\n",
            "|       0|       [sizes, recomende...|\n",
            "|       0|       [mind, numbing, ....|\n",
            "|       0|       [***, beware, ***...|\n",
            "|       1|       [homer, moses?, ....|\n",
            "|       0|       [poor, quality., ...|\n",
            "|       1|       [yes!!!, ., got, ...|\n",
            "|       0|       [uncomfortable, b...|\n",
            "|       0|       [got, fooled..., ...|\n",
            "|       0|       [excellent, book,...|\n",
            "|       1|       [found, it!, henr...|\n",
            "|       1|       [contemporary, fa...|\n",
            "|       0|       [professional, qu...|\n",
            "|       0|       [great, twins, .,...|\n",
            "|       1|       [blocks, -, keep,...|\n",
            "|       0|       [knock, off., ., ...|\n",
            "|       1|       [worst, american,...|\n",
            "|       0|       [unmasked...........|\n",
            "|       0|       [ain't, broke, fi...|\n",
            "+--------+---------------------------+\n",
            "only showing top 20 rows\n",
            "\n"
          ]
        }
      ],
      "source": [
        "amazon_reviews_stop_words_remover = StopWordsRemover(inputCol='User_Opinion_Tokens', outputCol='User_Opinion_Filterd_Tokens')\n",
        "amazon_reviews_df_to_preprocess = amazon_reviews_stop_words_remover.transform(amazon_reviews_df_to_preprocess).select('Polarity', 'User_Opinion_Filterd_Tokens')\n",
        "amazon_reviews_df_to_preprocess.show()"
      ]
    },
    {
      "cell_type": "markdown",
      "source": [
        "Training the final tokens with Word2Vec model"
      ],
      "metadata": {
        "id": "gDxtbY0lnnYB"
      }
    },
    {
      "cell_type": "code",
      "execution_count": null,
      "metadata": {
        "id": "AUk1Xdcf6hkN"
      },
      "outputs": [],
      "source": [
        "amazon_reviews_word_to_vec = Word2Vec(inputCol='User_Opinion_Filterd_Tokens', outputCol='User_Opinion_Word_Embeddings')\n",
        "amazon_reviews_word_to_vec = amazon_reviews_word_to_vec.fit(amazon_reviews_df_to_preprocess)"
      ]
    },
    {
      "cell_type": "markdown",
      "source": [
        "After training the model, we will test it (whether it has learnt the features between words correctly or not) by finding some similar words to a particular word"
      ],
      "metadata": {
        "id": "yAHlidiSn6rh"
      }
    },
    {
      "cell_type": "code",
      "execution_count": null,
      "metadata": {
        "colab": {
          "base_uri": "https://localhost:8080/"
        },
        "id": "N4Sn3ahm9Ero",
        "outputId": "b508f310-4df6-4fa8-924d-173f38b99dd2"
      },
      "outputs": [
        {
          "output_type": "stream",
          "name": "stdout",
          "text": [
            "+-----------+------------------+\n",
            "|       word|        similarity|\n",
            "+-----------+------------------+\n",
            "| incredible|0.8460341691970825|\n",
            "|  fantastic|0.7821407914161682|\n",
            "|    awesome|0.7093379497528076|\n",
            "|outstanding|0.6820644736289978|\n",
            "|  wonderful|0.6775855422019958|\n",
            "+-----------+------------------+\n",
            "\n"
          ]
        }
      ],
      "source": [
        "amazon_reviews_word_to_vec.findSynonyms(\"amazing\", 5).show()"
      ]
    },
    {
      "cell_type": "code",
      "execution_count": null,
      "metadata": {
        "colab": {
          "base_uri": "https://localhost:8080/"
        },
        "id": "lGjBeX8s9MWx",
        "outputId": "8aa96a66-f196-40eb-fdbc-d78093f7b281"
      },
      "outputs": [
        {
          "output_type": "stream",
          "name": "stdout",
          "text": [
            "+---------+------------------+\n",
            "|     word|        similarity|\n",
            "+---------+------------------+\n",
            "| terrific|0.7913282513618469|\n",
            "|excellent| 0.765444278717041|\n",
            "|fantastic|0.7629461884498596|\n",
            "|  awesome|  0.76242595911026|\n",
            "|     good|0.6973778009414673|\n",
            "+---------+------------------+\n",
            "\n"
          ]
        }
      ],
      "source": [
        "amazon_reviews_word_to_vec.findSynonyms(\"great\", 5).show()"
      ]
    },
    {
      "cell_type": "code",
      "execution_count": null,
      "metadata": {
        "colab": {
          "base_uri": "https://localhost:8080/"
        },
        "id": "Fv4G31Q59SIS",
        "outputId": "8cc86092-ab31-4831-bafc-8b0ed6f2d638"
      },
      "outputs": [
        {
          "output_type": "stream",
          "name": "stdout",
          "text": [
            "+---------+------------------+\n",
            "|     word|        similarity|\n",
            "+---------+------------------+\n",
            "|   story,|0.8585571646690369|\n",
            "|   story.|0.8069674372673035|\n",
            "|     plot|0.7243809700012207|\n",
            "|    tale,|0.7231417298316956|\n",
            "|storyline|0.7001497745513916|\n",
            "+---------+------------------+\n",
            "\n"
          ]
        }
      ],
      "source": [
        "amazon_reviews_word_to_vec.findSynonyms(\"story\", 5).show()"
      ]
    },
    {
      "cell_type": "markdown",
      "source": [
        "Finally transforming the user review tokens into word embedding vectors with Word2Vec model"
      ],
      "metadata": {
        "id": "B0O7CUHkoQPb"
      }
    },
    {
      "cell_type": "code",
      "execution_count": null,
      "metadata": {
        "colab": {
          "base_uri": "https://localhost:8080/"
        },
        "id": "kgOhS0yN8Gjo",
        "outputId": "11c7d777-d64b-4103-f44c-245e20e49df1"
      },
      "outputs": [
        {
          "output_type": "stream",
          "name": "stdout",
          "text": [
            "+--------+----------------------------+\n",
            "|Polarity|User_Opinion_Word_Embeddings|\n",
            "+--------+----------------------------+\n",
            "|       1|        [-0.0358363226380...|\n",
            "|       1|        [-0.0920378355532...|\n",
            "|       0|        [0.03176117469759...|\n",
            "|       0|        [-0.0582564079086...|\n",
            "|       0|        [-0.0273337300002...|\n",
            "|       1|        [-0.0015187422267...|\n",
            "|       0|        [-0.0535063293161...|\n",
            "|       1|        [-0.0632975047119...|\n",
            "|       0|        [0.05508926662150...|\n",
            "|       0|        [-0.0164264570066...|\n",
            "|       0|        [-0.0396259729439...|\n",
            "|       1|        [-0.0212134202192...|\n",
            "|       1|        [-0.0262760660041...|\n",
            "|       0|        [-0.0211847637517...|\n",
            "|       0|        [-0.1222132123740...|\n",
            "|       1|        [0.00297363132458...|\n",
            "|       0|        [-0.0997172124151...|\n",
            "|       1|        [-0.0332171532791...|\n",
            "|       0|        [-0.0218392734628...|\n",
            "|       0|        [-0.0395442961094...|\n",
            "+--------+----------------------------+\n",
            "only showing top 20 rows\n",
            "\n"
          ]
        }
      ],
      "source": [
        "amazon_reviews_df_to_preprocess = amazon_reviews_word_to_vec.transform(amazon_reviews_df_to_preprocess)\n",
        "amazon_reviews_df_to_preprocess = amazon_reviews_df_to_preprocess.select('Polarity', 'User_Opinion_Word_Embeddings')\n",
        "amazon_reviews_df_to_preprocess.show()"
      ]
    },
    {
      "cell_type": "markdown",
      "source": [
        "Scaling the Word Embeddings"
      ],
      "metadata": {
        "id": "wB10GYazoad_"
      }
    },
    {
      "cell_type": "code",
      "execution_count": null,
      "metadata": {
        "colab": {
          "base_uri": "https://localhost:8080/"
        },
        "id": "UW07LgtI7XOC",
        "outputId": "93d14b8d-b4fa-4aaf-947f-8c9d9d91d91c"
      },
      "outputs": [
        {
          "output_type": "stream",
          "name": "stdout",
          "text": [
            "+--------+--------------------+\n",
            "|Polarity|Scaled_User_Opinions|\n",
            "+--------+--------------------+\n",
            "|       1|[-0.7857775537532...|\n",
            "|       1|[-2.0180995132866...|\n",
            "|       0|[0.69642240947274...|\n",
            "|       0|[-1.2773793270949...|\n",
            "|       0|[-0.5993425081995...|\n",
            "|       1|[-0.0333012280251...|\n",
            "|       0|[-1.1732250818540...|\n",
            "|       1|[-1.3879146840389...|\n",
            "|       0|[1.20793390552859...|\n",
            "|       0|[-0.3601804050582...|\n",
            "|       0|[-0.8688726351608...|\n",
            "|       1|[-0.4651434137098...|\n",
            "|       1|[-0.5761512718681...|\n",
            "|       0|[-0.4645150677380...|\n",
            "|       0|[-2.6797503757758...|\n",
            "|       1|[0.06520235827774...|\n",
            "|       0|[-2.1864840326999...|\n",
            "|       1|[-0.7283474286679...|\n",
            "|       0|[-0.4788664018544...|\n",
            "|       0|[-0.8670817197299...|\n",
            "+--------+--------------------+\n",
            "only showing top 20 rows\n",
            "\n"
          ]
        }
      ],
      "source": [
        "amazon_reviews_scaler = StandardScaler(inputCol='User_Opinion_Word_Embeddings', outputCol='Scaled_User_Opinions')\n",
        "amazon_reviews_df_to_preprocess = amazon_reviews_scaler.fit(amazon_reviews_df_to_preprocess).transform(amazon_reviews_df_to_preprocess)\n",
        "amazon_reviews_df_to_preprocess = amazon_reviews_df_to_preprocess.select('Polarity', 'Scaled_User_Opinions')\n",
        "amazon_reviews_df_to_preprocess.show()"
      ]
    },
    {
      "cell_type": "markdown",
      "source": [
        "Using Vector Assembler to assemble all features. In our case, since Word2Vec already assembles the learnt features in one vector this step is not required but only adding it to generalize the code for various datasets."
      ],
      "metadata": {
        "id": "Ki4nOauFohYP"
      }
    },
    {
      "cell_type": "code",
      "execution_count": null,
      "metadata": {
        "colab": {
          "base_uri": "https://localhost:8080/"
        },
        "id": "_FpfKgHrpz2B",
        "outputId": "cacf214f-7f95-4100-8803-08219b747e45"
      },
      "outputs": [
        {
          "output_type": "stream",
          "name": "stdout",
          "text": [
            "+--------+--------------------+\n",
            "|Polarity| Final_User_Opinions|\n",
            "+--------+--------------------+\n",
            "|       1|[-0.7857775537532...|\n",
            "|       1|[-2.0180995132866...|\n",
            "|       0|[0.69642240947274...|\n",
            "|       0|[-1.2773793270949...|\n",
            "|       0|[-0.5993425081995...|\n",
            "|       1|[-0.0333012280251...|\n",
            "|       0|[-1.1732250818540...|\n",
            "|       1|[-1.3879146840389...|\n",
            "|       0|[1.20793390552859...|\n",
            "|       0|[-0.3601804050582...|\n",
            "|       0|[-0.8688726351608...|\n",
            "|       1|[-0.4651434137098...|\n",
            "|       1|[-0.5761512718681...|\n",
            "|       0|[-0.4645150677380...|\n",
            "|       0|[-2.6797503757758...|\n",
            "|       1|[0.06520235827774...|\n",
            "|       0|[-2.1864840326999...|\n",
            "|       1|[-0.7283474286679...|\n",
            "|       0|[-0.4788664018544...|\n",
            "|       0|[-0.8670817197299...|\n",
            "+--------+--------------------+\n",
            "only showing top 20 rows\n",
            "\n"
          ]
        }
      ],
      "source": [
        "amazon_reviews_vector_assembler = VectorAssembler(inputCols=['Scaled_User_Opinions'], outputCol='Final_User_Opinions')\n",
        "amazon_reviews_df_to_preprocess = amazon_reviews_vector_assembler.transform(amazon_reviews_df_to_preprocess)\n",
        "amazon_reviews_df_to_preprocess = amazon_reviews_df_to_preprocess.select('Polarity', 'Final_User_Opinions')\n",
        "amazon_reviews_df_to_preprocess.show()"
      ]
    },
    {
      "cell_type": "markdown",
      "metadata": {
        "id": "-qn6XGH_ClYI"
      },
      "source": [
        "### Creating a Pipeline to automatically pre-process the data"
      ]
    },
    {
      "cell_type": "markdown",
      "source": [
        "I will be creating a pipeline, to automate all the above pre-processing steps and to make the pre-processing steps consistent across training and testing sets. It will have the following stages\n",
        "\n",
        "1.   Replacing null reviews with empty string - ''\n",
        "2.   Concatination of Title and Reviews column\n",
        "3.   Tokenising Reviews\n",
        "4.   Stop words Removal\n",
        "5.   Converting tokens to Word Embeddings using Word2Vec\n",
        "6.   Scaling\n",
        "7.   Vector Assembling\n",
        "\n",
        "\n",
        "\n",
        "\n",
        "\n"
      ],
      "metadata": {
        "id": "XjLqcEpdpEjN"
      }
    },
    {
      "cell_type": "code",
      "execution_count": null,
      "metadata": {
        "id": "USc9M_iqy9tQ"
      },
      "outputs": [],
      "source": [
        "# Creating a class to replace null values with empty string ''. I have implemented the transform method from the Transformer class to use with the pipeline\n",
        "class AmazonReviewsNullHandler(Transformer, HasInputCol, HasOutputCol):\n",
        "\n",
        "  def __init__(self):\n",
        "    super(AmazonReviewsNullHandler, self).__init__()\n",
        "\n",
        "  def _transform(self, amazon_reviews_df):\n",
        "    return amazon_reviews_df.na.fill('')"
      ]
    },
    {
      "cell_type": "code",
      "execution_count": null,
      "metadata": {
        "id": "XZ-CJHgeCrxl"
      },
      "outputs": [],
      "source": [
        "# Creating a class to concatinate two columns. I have implemented the transform method from the Transformer class to use with the pipeline\n",
        "class AmazonReviewMerger(Transformer, HasInputCol, HasOutputCol):\n",
        "\n",
        "    def __init__(self, inputCol1=None, inputCol2=None, outputCol=None):\n",
        "        super(AmazonReviewMerger, self).__init__()\n",
        "        self.inputCol1 = inputCol1\n",
        "        self.inputCol2 = inputCol2\n",
        "        self.outputCol = outputCol\n",
        "\n",
        "    def _transform(self, amazon_reviews_df):\n",
        "        return amazon_reviews_df.withColumn(self.outputCol, concat(col(self.inputCol1), lit(\" . \"), col(self.inputCol2)))"
      ]
    },
    {
      "cell_type": "markdown",
      "source": [
        "Defining all the stages in the Pipeline"
      ],
      "metadata": {
        "id": "FPKyjfg-qqao"
      }
    },
    {
      "cell_type": "code",
      "execution_count": null,
      "metadata": {
        "id": "OoJYMcowG3_I"
      },
      "outputs": [],
      "source": [
        "amazon_reviews_null_handler = AmazonReviewsNullHandler()\n",
        "amazon_reviews_merger = AmazonReviewMerger(inputCol1='Title', inputCol2='Review', outputCol='User_Opinion')\n",
        "amazon_reviews_tokenizer = Tokenizer(inputCol='User_Opinion', outputCol='User_Opinion_Tokens')\n",
        "amazon_reviews_stop_words_remover = StopWordsRemover(inputCol='User_Opinion_Tokens', outputCol='User_Opinion_Filterd_Tokens')\n",
        "amazon_reviews_word_to_vec = Word2Vec(inputCol='User_Opinion_Filterd_Tokens', outputCol='User_Opinion_Word_Embeddings')\n",
        "amazon_reviews_scaler = StandardScaler(inputCol='User_Opinion_Word_Embeddings', outputCol='Scaled_User_Opinions')\n",
        "amazon_reviews_vector_assembler = VectorAssembler(inputCols=['Scaled_User_Opinions'], outputCol='Final_User_Opinions')"
      ]
    },
    {
      "cell_type": "code",
      "execution_count": null,
      "metadata": {
        "id": "EuDv4dpbHnbA"
      },
      "outputs": [],
      "source": [
        "pipeline_stages = [amazon_reviews_null_handler, amazon_reviews_merger, amazon_reviews_tokenizer, amazon_reviews_stop_words_remover, amazon_reviews_word_to_vec, amazon_reviews_scaler, amazon_reviews_vector_assembler]"
      ]
    },
    {
      "cell_type": "markdown",
      "source": [
        "Creating the Pipeline and fitting it on the dataset."
      ],
      "metadata": {
        "id": "unsFVMv3qvxN"
      }
    },
    {
      "cell_type": "code",
      "execution_count": null,
      "metadata": {
        "colab": {
          "base_uri": "https://localhost:8080/"
        },
        "id": "-yBEwFpyHvxr",
        "outputId": "81e0cd14-a822-414f-c731-2eb0601ec3f5"
      },
      "outputs": [
        {
          "output_type": "stream",
          "name": "stdout",
          "text": [
            "+--------+--------------------+--------------------+--------------------+--------------------+---------------------------+----------------------------+--------------------+--------------------+\n",
            "|Polarity|               Title|              Review|        User_Opinion| User_Opinion_Tokens|User_Opinion_Filterd_Tokens|User_Opinion_Word_Embeddings|Scaled_User_Opinions| Final_User_Opinions|\n",
            "+--------+--------------------+--------------------+--------------------+--------------------+---------------------------+----------------------------+--------------------+--------------------+\n",
            "|       1|The best soundtra...|I'm reading a lot...|The best soundtra...|[the, best, sound...|       [best, soundtrack...|        [-0.0358363226380...|[-0.7857775537532...|[-0.7857775537532...|\n",
            "|       1|    A FIVE STAR BOOK|I just finished r...|A FIVE STAR BOOK ...|[a, five, star, b...|       [five, star, book...|        [-0.0920378355532...|[-2.0180995132866...|[-2.0180995132866...|\n",
            "|       0|sizes recomended ...|sizes are much sm...|sizes recomended ...|[sizes, recomende...|       [sizes, recomende...|        [0.03176117469759...|[0.69642240947274...|[0.69642240947274...|\n",
            "|       0|        Mind numbing|This game makes y...|Mind numbing . Th...|[mind, numbing, ....|       [mind, numbing, ....|        [-0.0582564079086...|[-1.2773793270949...|[-1.2773793270949...|\n",
            "|       0|      *** BEWARE ***|\"This TV is set s...|*** BEWARE *** . ...|[***, beware, ***...|       [***, beware, ***...|        [-0.0273337300002...|[-0.5993425081995...|[-0.5993425081995...|\n",
            "|       1|     Homer or Moses?|An extremely help...|Homer or Moses? ....|[homer, or, moses...|       [homer, moses?, ....|        [-0.0015187422267...|[-0.0333012280251...|[-0.0333012280251...|\n",
            "|       0|  Very poor quality.|\"The screen arriv...|Very poor quality...|[very, poor, qual...|       [poor, quality., ...|        [-0.0535063293161...|[-1.1732250818540...|[-1.1732250818540...|\n",
            "|       1|              YES!!!|When I got this b...|YES!!! . When I g...|[yes!!!, ., when,...|       [yes!!!, ., got, ...|        [-0.0632975047119...|[-1.3879146840389...|[-1.3879146840389...|\n",
            "|       0|Too Uncomfortable...|These pants were ...|Too Uncomfortable...|[too, uncomfortab...|       [uncomfortable, b...|        [0.05508926662150...|[1.20793390552859...|[1.20793390552859...|\n",
            "|       0|     I got fooled...|I did not know th...|I got fooled... ....|[i, got, fooled.....|       [got, fooled..., ...|        [-0.0164264570066...|[-0.3601804050582...|[-0.3601804050582...|\n",
            "|       0|Excellent book, v...|Yet another examp...|Excellent book, v...|[excellent, book,...|       [excellent, book,...|        [-0.0396259729439...|[-0.8688726351608...|[-0.8688726351608...|\n",
            "|       1|I found it! Henry...|\"I had two Henry ...|I found it! Henry...|[i, found, it!, h...|       [found, it!, henr...|        [-0.0212134202192...|[-0.4651434137098...|[-0.4651434137098...|\n",
            "|       1|A Contemporary Fa...|While this book i...|A Contemporary Fa...|[a, contemporary,...|       [contemporary, fa...|        [-0.0262760660041...|[-0.5761512718681...|[-0.5761512718681...|\n",
            "|       0|Not professional ...|I first tried buy...|Not professional ...|[not, professiona...|       [professional, qu...|        [-0.0211847637517...|[-0.4645150677380...|[-0.4645150677380...|\n",
            "|       0|     Great for Twins|I purchased the A...|Great for Twins ....|[great, for, twin...|       [great, twins, .,...|        [-0.1222132123740...|[-2.6797503757758...|[-2.6797503757758...|\n",
            "|       1|They're blocks - ...|\"We got these aft...|They're blocks - ...|[they're, blocks,...|       [blocks, -, keep,...|        [0.00297363132458...|[0.06520235827774...|[0.06520235827774...|\n",
            "|       0|   It's a knock off.|\"The official Chr...|It's a knock off....|[it's, a, knock, ...|       [knock, off., ., ...|        [-0.0997172124151...|[-2.1864840326999...|[-2.1864840326999...|\n",
            "|       1|NOT the worst Ame...|This movie was a ...|NOT the worst Ame...|[not, the, worst,...|       [worst, american,...|        [-0.0332171532791...|[-0.7283474286679...|[-0.7283474286679...|\n",
            "|       0|Unmasked............|Sadly, there is a...|Unmasked............|[unmasked...........|       [unmasked...........|        [-0.0218392734628...|[-0.4788664018544...|[-0.4788664018544...|\n",
            "|       0|If it ain't broke...|I have been using...|If it ain't broke...|[if, it, ain't, b...|       [ain't, broke, fi...|        [-0.0395442961094...|[-0.8670817197299...|[-0.8670817197299...|\n",
            "+--------+--------------------+--------------------+--------------------+--------------------+---------------------------+----------------------------+--------------------+--------------------+\n",
            "only showing top 20 rows\n",
            "\n"
          ]
        }
      ],
      "source": [
        "amazon_reviews_pipeline = Pipeline(stages=pipeline_stages)\n",
        "amazon_reviews_pipeline = amazon_reviews_pipeline.fit(amazon_reviews_df)\n",
        "amazon_reviews_df = amazon_reviews_pipeline.transform(amazon_reviews_df)\n",
        "amazon_reviews_df.show()"
      ]
    },
    {
      "cell_type": "code",
      "execution_count": null,
      "metadata": {
        "colab": {
          "base_uri": "https://localhost:8080/"
        },
        "id": "Tq_U2__5Ib6J",
        "outputId": "f8697998-01bd-426a-96b9-09f68e4e65e6"
      },
      "outputs": [
        {
          "output_type": "stream",
          "name": "stdout",
          "text": [
            "+--------+--------------------+\n",
            "|Polarity| Final_User_Opinions|\n",
            "+--------+--------------------+\n",
            "|       1|[-0.7857775537532...|\n",
            "|       1|[-2.0180995132866...|\n",
            "|       0|[0.69642240947274...|\n",
            "|       0|[-1.2773793270949...|\n",
            "|       0|[-0.5993425081995...|\n",
            "|       1|[-0.0333012280251...|\n",
            "|       0|[-1.1732250818540...|\n",
            "|       1|[-1.3879146840389...|\n",
            "|       0|[1.20793390552859...|\n",
            "|       0|[-0.3601804050582...|\n",
            "|       0|[-0.8688726351608...|\n",
            "|       1|[-0.4651434137098...|\n",
            "|       1|[-0.5761512718681...|\n",
            "|       0|[-0.4645150677380...|\n",
            "|       0|[-2.6797503757758...|\n",
            "|       1|[0.06520235827774...|\n",
            "|       0|[-2.1864840326999...|\n",
            "|       1|[-0.7283474286679...|\n",
            "|       0|[-0.4788664018544...|\n",
            "|       0|[-0.8670817197299...|\n",
            "+--------+--------------------+\n",
            "only showing top 20 rows\n",
            "\n"
          ]
        }
      ],
      "source": [
        "amazon_reviews_df = amazon_reviews_df.select('Polarity', 'Final_User_Opinions')\n",
        "amazon_reviews_df.show()"
      ]
    },
    {
      "cell_type": "markdown",
      "metadata": {
        "id": "ziN3z2uohpXN"
      },
      "source": [
        "### Handling class imbalance"
      ]
    },
    {
      "cell_type": "code",
      "execution_count": null,
      "metadata": {
        "colab": {
          "base_uri": "https://localhost:8080/"
        },
        "id": "0oF0AvPKiHAT",
        "outputId": "9bb8a58c-65b5-4f32-8af4-3a8adfd32d4b"
      },
      "outputs": [
        {
          "output_type": "stream",
          "name": "stdout",
          "text": [
            "+--------+--------------------+\n",
            "|Polarity|Reviews_Per_Polarity|\n",
            "+--------+--------------------+\n",
            "|       1|              180078|\n",
            "|       0|              180948|\n",
            "+--------+--------------------+\n",
            "\n"
          ]
        }
      ],
      "source": [
        "class_count = amazon_reviews_df.groupBy(\"Polarity\").agg(count(\"*\").alias(\"Reviews_Per_Polarity\"))\n",
        "class_count.show()"
      ]
    },
    {
      "cell_type": "markdown",
      "metadata": {
        "id": "boBcMeNdhzFw"
      },
      "source": [
        "**Since the dataset is imbalanced, while training ml model - the model will be biased towards the majority class. Hence, class weights is used to handle class imbalance. Although in this case, the difference is very small, still using class weights to handle this imbalance in order to generalize for future datasets**"
      ]
    },
    {
      "cell_type": "code",
      "execution_count": null,
      "metadata": {
        "colab": {
          "base_uri": "https://localhost:8080/"
        },
        "id": "SmkfsdLsjSGv",
        "outputId": "d8cc3e16-fc90-400f-d579-402aeaf3911e"
      },
      "outputs": [
        {
          "output_type": "execute_result",
          "data": {
            "text/plain": [
              "{1: 180078, 0: 180948}"
            ]
          },
          "metadata": {},
          "execution_count": 34
        }
      ],
      "source": [
        "class_count = class_count.rdd.collectAsMap()\n",
        "class_count"
      ]
    },
    {
      "cell_type": "code",
      "execution_count": null,
      "metadata": {
        "colab": {
          "base_uri": "https://localhost:8080/"
        },
        "id": "o7WR01lKlUM5",
        "outputId": "76202759-8e8b-4c46-85e6-1748d04059d6"
      },
      "outputs": [
        {
          "output_type": "execute_result",
          "data": {
            "text/plain": [
              "0.49879510062987154"
            ]
          },
          "metadata": {},
          "execution_count": 35
        }
      ],
      "source": [
        "polarity_0_balancing_ratio = class_count[1]/(class_count[0] + class_count[1])\n",
        "polarity_0_balancing_ratio"
      ]
    },
    {
      "cell_type": "code",
      "execution_count": null,
      "metadata": {
        "colab": {
          "base_uri": "https://localhost:8080/"
        },
        "id": "iH59HfCyl6JM",
        "outputId": "f19d39ff-0319-41e3-cad8-937118ecb4e6"
      },
      "outputs": [
        {
          "output_type": "stream",
          "name": "stdout",
          "text": [
            "+--------+--------------------+--------------------+\n",
            "|Polarity| Final_User_Opinions|polarityClassWeights|\n",
            "+--------+--------------------+--------------------+\n",
            "|       1|[-0.7857775537532...|  0.5012048993701285|\n",
            "|       1|[-2.0180995132866...|  0.5012048993701285|\n",
            "|       0|[0.69642240947274...| 0.49879510062987154|\n",
            "|       0|[-1.2773793270949...| 0.49879510062987154|\n",
            "|       0|[-0.5993425081995...| 0.49879510062987154|\n",
            "|       1|[-0.0333012280251...|  0.5012048993701285|\n",
            "|       0|[-1.1732250818540...| 0.49879510062987154|\n",
            "|       1|[-1.3879146840389...|  0.5012048993701285|\n",
            "|       0|[1.20793390552859...| 0.49879510062987154|\n",
            "|       0|[-0.3601804050582...| 0.49879510062987154|\n",
            "|       0|[-0.8688726351608...| 0.49879510062987154|\n",
            "|       1|[-0.4651434137098...|  0.5012048993701285|\n",
            "|       1|[-0.5761512718681...|  0.5012048993701285|\n",
            "|       0|[-0.4645150677380...| 0.49879510062987154|\n",
            "|       0|[-2.6797503757758...| 0.49879510062987154|\n",
            "|       1|[0.06520235827774...|  0.5012048993701285|\n",
            "|       0|[-2.1864840326999...| 0.49879510062987154|\n",
            "|       1|[-0.7283474286679...|  0.5012048993701285|\n",
            "|       0|[-0.4788664018544...| 0.49879510062987154|\n",
            "|       0|[-0.8670817197299...| 0.49879510062987154|\n",
            "+--------+--------------------+--------------------+\n",
            "only showing top 20 rows\n",
            "\n"
          ]
        }
      ],
      "source": [
        "amazon_reviews_df = amazon_reviews_df.withColumn('polarityClassWeights', when(amazon_reviews_df.Polarity == 0, polarity_0_balancing_ratio).otherwise(1-polarity_0_balancing_ratio))\n",
        "amazon_reviews_df.show()"
      ]
    },
    {
      "cell_type": "markdown",
      "metadata": {
        "id": "LPK97gzLIivE"
      },
      "source": [
        "### Splitting the data into Training Set and Validation Set"
      ]
    },
    {
      "cell_type": "code",
      "execution_count": null,
      "metadata": {
        "id": "8euvMH1NItg-"
      },
      "outputs": [],
      "source": [
        "# 90% of data is taken as Training Set and 10% as validation set\n",
        "amazon_reviews_df_train = amazon_reviews_df.sampleBy('Polarity', fractions = {0:0.90, 1:0.90})\n",
        "amazon_reviews_df_val = amazon_reviews_df.subtract(amazon_reviews_df_train)"
      ]
    },
    {
      "cell_type": "markdown",
      "metadata": {
        "id": "1Q3YQ6Sb19bB"
      },
      "source": [
        "### Sampling Data for Hyper Parameter Tuning"
      ]
    },
    {
      "cell_type": "markdown",
      "source": [
        "Taking a sample of data for tuning the hyper parameters."
      ],
      "metadata": {
        "id": "9BZrPx4MrCfM"
      }
    },
    {
      "cell_type": "code",
      "execution_count": null,
      "metadata": {
        "id": "lj0yNABb18VR"
      },
      "outputs": [],
      "source": [
        "amazon_reviews_df_train_sampled = amazon_reviews_df_train.sampleBy('Polarity', fractions = {0:0.10, 1:0.10}).cache()\n",
        "amazon_reviews_df_val_sampled = amazon_reviews_df_val.sampleBy('Polarity', fractions = {0:0.10, 1:0.10}).cache()"
      ]
    },
    {
      "cell_type": "markdown",
      "metadata": {
        "id": "RDJECHAbb0JC"
      },
      "source": [
        "## Random Forest Classifier"
      ]
    },
    {
      "cell_type": "markdown",
      "metadata": {
        "id": "t5qyBQUyr-iN"
      },
      "source": [
        "### Hyper Parameter Tuning On Sampled Data"
      ]
    },
    {
      "cell_type": "code",
      "source": [
        "amazon_reviews_rf_tuning_data = pd.DataFrame(columns=['numTrees', 'maxDepth', 'Accuracy'])\n",
        "amazon_reviews_rf_tuning_data"
      ],
      "metadata": {
        "colab": {
          "base_uri": "https://localhost:8080/",
          "height": 49
        },
        "id": "lz7oGdcYaqit",
        "outputId": "5c371db4-bcde-42e4-b9e3-4782a4f493b7"
      },
      "execution_count": null,
      "outputs": [
        {
          "output_type": "execute_result",
          "data": {
            "text/plain": [
              "Empty DataFrame\n",
              "Columns: [numTrees, maxDepth, Accuracy]\n",
              "Index: []"
            ],
            "text/html": [
              "\n",
              "  <div id=\"df-281bc264-9b35-4adb-8045-cb9247e90776\">\n",
              "    <div class=\"colab-df-container\">\n",
              "      <div>\n",
              "<style scoped>\n",
              "    .dataframe tbody tr th:only-of-type {\n",
              "        vertical-align: middle;\n",
              "    }\n",
              "\n",
              "    .dataframe tbody tr th {\n",
              "        vertical-align: top;\n",
              "    }\n",
              "\n",
              "    .dataframe thead th {\n",
              "        text-align: right;\n",
              "    }\n",
              "</style>\n",
              "<table border=\"1\" class=\"dataframe\">\n",
              "  <thead>\n",
              "    <tr style=\"text-align: right;\">\n",
              "      <th></th>\n",
              "      <th>numTrees</th>\n",
              "      <th>maxDepth</th>\n",
              "      <th>Accuracy</th>\n",
              "    </tr>\n",
              "  </thead>\n",
              "  <tbody>\n",
              "  </tbody>\n",
              "</table>\n",
              "</div>\n",
              "      <button class=\"colab-df-convert\" onclick=\"convertToInteractive('df-281bc264-9b35-4adb-8045-cb9247e90776')\"\n",
              "              title=\"Convert this dataframe to an interactive table.\"\n",
              "              style=\"display:none;\">\n",
              "        \n",
              "  <svg xmlns=\"http://www.w3.org/2000/svg\" height=\"24px\"viewBox=\"0 0 24 24\"\n",
              "       width=\"24px\">\n",
              "    <path d=\"M0 0h24v24H0V0z\" fill=\"none\"/>\n",
              "    <path d=\"M18.56 5.44l.94 2.06.94-2.06 2.06-.94-2.06-.94-.94-2.06-.94 2.06-2.06.94zm-11 1L8.5 8.5l.94-2.06 2.06-.94-2.06-.94L8.5 2.5l-.94 2.06-2.06.94zm10 10l.94 2.06.94-2.06 2.06-.94-2.06-.94-.94-2.06-.94 2.06-2.06.94z\"/><path d=\"M17.41 7.96l-1.37-1.37c-.4-.4-.92-.59-1.43-.59-.52 0-1.04.2-1.43.59L10.3 9.45l-7.72 7.72c-.78.78-.78 2.05 0 2.83L4 21.41c.39.39.9.59 1.41.59.51 0 1.02-.2 1.41-.59l7.78-7.78 2.81-2.81c.8-.78.8-2.07 0-2.86zM5.41 20L4 18.59l7.72-7.72 1.47 1.35L5.41 20z\"/>\n",
              "  </svg>\n",
              "      </button>\n",
              "      \n",
              "  <style>\n",
              "    .colab-df-container {\n",
              "      display:flex;\n",
              "      flex-wrap:wrap;\n",
              "      gap: 12px;\n",
              "    }\n",
              "\n",
              "    .colab-df-convert {\n",
              "      background-color: #E8F0FE;\n",
              "      border: none;\n",
              "      border-radius: 50%;\n",
              "      cursor: pointer;\n",
              "      display: none;\n",
              "      fill: #1967D2;\n",
              "      height: 32px;\n",
              "      padding: 0 0 0 0;\n",
              "      width: 32px;\n",
              "    }\n",
              "\n",
              "    .colab-df-convert:hover {\n",
              "      background-color: #E2EBFA;\n",
              "      box-shadow: 0px 1px 2px rgba(60, 64, 67, 0.3), 0px 1px 3px 1px rgba(60, 64, 67, 0.15);\n",
              "      fill: #174EA6;\n",
              "    }\n",
              "\n",
              "    [theme=dark] .colab-df-convert {\n",
              "      background-color: #3B4455;\n",
              "      fill: #D2E3FC;\n",
              "    }\n",
              "\n",
              "    [theme=dark] .colab-df-convert:hover {\n",
              "      background-color: #434B5C;\n",
              "      box-shadow: 0px 1px 3px 1px rgba(0, 0, 0, 0.15);\n",
              "      filter: drop-shadow(0px 1px 2px rgba(0, 0, 0, 0.3));\n",
              "      fill: #FFFFFF;\n",
              "    }\n",
              "  </style>\n",
              "\n",
              "      <script>\n",
              "        const buttonEl =\n",
              "          document.querySelector('#df-281bc264-9b35-4adb-8045-cb9247e90776 button.colab-df-convert');\n",
              "        buttonEl.style.display =\n",
              "          google.colab.kernel.accessAllowed ? 'block' : 'none';\n",
              "\n",
              "        async function convertToInteractive(key) {\n",
              "          const element = document.querySelector('#df-281bc264-9b35-4adb-8045-cb9247e90776');\n",
              "          const dataTable =\n",
              "            await google.colab.kernel.invokeFunction('convertToInteractive',\n",
              "                                                     [key], {});\n",
              "          if (!dataTable) return;\n",
              "\n",
              "          const docLinkHtml = 'Like what you see? Visit the ' +\n",
              "            '<a target=\"_blank\" href=https://colab.research.google.com/notebooks/data_table.ipynb>data table notebook</a>'\n",
              "            + ' to learn more about interactive tables.';\n",
              "          element.innerHTML = '';\n",
              "          dataTable['output_type'] = 'display_data';\n",
              "          await google.colab.output.renderOutput(dataTable, element);\n",
              "          const docLink = document.createElement('div');\n",
              "          docLink.innerHTML = docLinkHtml;\n",
              "          element.appendChild(docLink);\n",
              "        }\n",
              "      </script>\n",
              "    </div>\n",
              "  </div>\n",
              "  "
            ]
          },
          "metadata": {},
          "execution_count": 39
        }
      ]
    },
    {
      "cell_type": "code",
      "execution_count": null,
      "metadata": {
        "id": "jTV5bemEf0Mp",
        "colab": {
          "base_uri": "https://localhost:8080/"
        },
        "outputId": "630183b4-f699-4312-9fcd-7fe25f95a314"
      },
      "outputs": [
        {
          "output_type": "stream",
          "name": "stdout",
          "text": [
            "10 5\n",
            "10 7\n",
            "10 10\n",
            "20 5\n",
            "20 7\n",
            "20 10\n",
            "30 5\n",
            "30 7\n",
            "30 10\n"
          ]
        }
      ],
      "source": [
        "# Training the Random Forest model with different hyper parameters and storing the hyper parameters and Accuracy in a Pandas Dataframe.\n",
        "num_of_trees = [10, 20, 30]\n",
        "max_depth = [5, 7, 10]\n",
        "\n",
        "for trees in num_of_trees:\n",
        "  for depth in max_depth:\n",
        "    amazon_reviews_rf_classifier = RandomForestClassifier(labelCol='Polarity', featuresCol='Final_User_Opinions', weightCol='polarityClassWeights', numTrees=trees, maxDepth=depth)\n",
        "    amazon_reviews_rf_classifier = amazon_reviews_rf_classifier.fit(amazon_reviews_df_train_sampled)\n",
        "    amazon_reviews_df_val_sampled_predictions = amazon_reviews_rf_classifier.transform(amazon_reviews_df_val_sampled)\n",
        "    accuracy = amazon_reviews_df_val_sampled_predictions.withColumn(\"correct_prediction\", when(col(\"Polarity\") == col(\"prediction\"), 1).otherwise(0)).select(avg(col(\"correct_prediction\"))).collect()[0][0]\n",
        "    amazon_reviews_rf_tuning_data = pd.concat([amazon_reviews_rf_tuning_data, pd.DataFrame({\n",
        "        'numTrees': [trees],\n",
        "        'maxDepth': [depth],\n",
        "        'Accuracy': [accuracy * 100]\n",
        "    })])\n",
        "    print(trees, depth)"
      ]
    },
    {
      "cell_type": "markdown",
      "source": [
        "Results of hyper parameter tuning"
      ],
      "metadata": {
        "id": "Ki0nc1GbsEHI"
      }
    },
    {
      "cell_type": "code",
      "source": [
        "amazon_reviews_rf_tuning_data"
      ],
      "metadata": {
        "colab": {
          "base_uri": "https://localhost:8080/",
          "height": 331
        },
        "id": "uwfI4OgVdXkW",
        "outputId": "15239f1a-a991-4b19-bf12-df12179fd9df"
      },
      "execution_count": null,
      "outputs": [
        {
          "output_type": "execute_result",
          "data": {
            "text/plain": [
              "  numTrees maxDepth   Accuracy\n",
              "0       10        5  75.492958\n",
              "0       10        7  78.253521\n",
              "0       10       10  78.563380\n",
              "0       20        5  75.746479\n",
              "0       20        7  78.366197\n",
              "0       20       10  79.633803\n",
              "0       30        5  77.239437\n",
              "0       30        7  78.309859\n",
              "0       30       10  79.718310"
            ],
            "text/html": [
              "\n",
              "  <div id=\"df-fb701aea-9970-48a6-964e-567d8fb18ee2\">\n",
              "    <div class=\"colab-df-container\">\n",
              "      <div>\n",
              "<style scoped>\n",
              "    .dataframe tbody tr th:only-of-type {\n",
              "        vertical-align: middle;\n",
              "    }\n",
              "\n",
              "    .dataframe tbody tr th {\n",
              "        vertical-align: top;\n",
              "    }\n",
              "\n",
              "    .dataframe thead th {\n",
              "        text-align: right;\n",
              "    }\n",
              "</style>\n",
              "<table border=\"1\" class=\"dataframe\">\n",
              "  <thead>\n",
              "    <tr style=\"text-align: right;\">\n",
              "      <th></th>\n",
              "      <th>numTrees</th>\n",
              "      <th>maxDepth</th>\n",
              "      <th>Accuracy</th>\n",
              "    </tr>\n",
              "  </thead>\n",
              "  <tbody>\n",
              "    <tr>\n",
              "      <th>0</th>\n",
              "      <td>10</td>\n",
              "      <td>5</td>\n",
              "      <td>75.492958</td>\n",
              "    </tr>\n",
              "    <tr>\n",
              "      <th>0</th>\n",
              "      <td>10</td>\n",
              "      <td>7</td>\n",
              "      <td>78.253521</td>\n",
              "    </tr>\n",
              "    <tr>\n",
              "      <th>0</th>\n",
              "      <td>10</td>\n",
              "      <td>10</td>\n",
              "      <td>78.563380</td>\n",
              "    </tr>\n",
              "    <tr>\n",
              "      <th>0</th>\n",
              "      <td>20</td>\n",
              "      <td>5</td>\n",
              "      <td>75.746479</td>\n",
              "    </tr>\n",
              "    <tr>\n",
              "      <th>0</th>\n",
              "      <td>20</td>\n",
              "      <td>7</td>\n",
              "      <td>78.366197</td>\n",
              "    </tr>\n",
              "    <tr>\n",
              "      <th>0</th>\n",
              "      <td>20</td>\n",
              "      <td>10</td>\n",
              "      <td>79.633803</td>\n",
              "    </tr>\n",
              "    <tr>\n",
              "      <th>0</th>\n",
              "      <td>30</td>\n",
              "      <td>5</td>\n",
              "      <td>77.239437</td>\n",
              "    </tr>\n",
              "    <tr>\n",
              "      <th>0</th>\n",
              "      <td>30</td>\n",
              "      <td>7</td>\n",
              "      <td>78.309859</td>\n",
              "    </tr>\n",
              "    <tr>\n",
              "      <th>0</th>\n",
              "      <td>30</td>\n",
              "      <td>10</td>\n",
              "      <td>79.718310</td>\n",
              "    </tr>\n",
              "  </tbody>\n",
              "</table>\n",
              "</div>\n",
              "      <button class=\"colab-df-convert\" onclick=\"convertToInteractive('df-fb701aea-9970-48a6-964e-567d8fb18ee2')\"\n",
              "              title=\"Convert this dataframe to an interactive table.\"\n",
              "              style=\"display:none;\">\n",
              "        \n",
              "  <svg xmlns=\"http://www.w3.org/2000/svg\" height=\"24px\"viewBox=\"0 0 24 24\"\n",
              "       width=\"24px\">\n",
              "    <path d=\"M0 0h24v24H0V0z\" fill=\"none\"/>\n",
              "    <path d=\"M18.56 5.44l.94 2.06.94-2.06 2.06-.94-2.06-.94-.94-2.06-.94 2.06-2.06.94zm-11 1L8.5 8.5l.94-2.06 2.06-.94-2.06-.94L8.5 2.5l-.94 2.06-2.06.94zm10 10l.94 2.06.94-2.06 2.06-.94-2.06-.94-.94-2.06-.94 2.06-2.06.94z\"/><path d=\"M17.41 7.96l-1.37-1.37c-.4-.4-.92-.59-1.43-.59-.52 0-1.04.2-1.43.59L10.3 9.45l-7.72 7.72c-.78.78-.78 2.05 0 2.83L4 21.41c.39.39.9.59 1.41.59.51 0 1.02-.2 1.41-.59l7.78-7.78 2.81-2.81c.8-.78.8-2.07 0-2.86zM5.41 20L4 18.59l7.72-7.72 1.47 1.35L5.41 20z\"/>\n",
              "  </svg>\n",
              "      </button>\n",
              "      \n",
              "  <style>\n",
              "    .colab-df-container {\n",
              "      display:flex;\n",
              "      flex-wrap:wrap;\n",
              "      gap: 12px;\n",
              "    }\n",
              "\n",
              "    .colab-df-convert {\n",
              "      background-color: #E8F0FE;\n",
              "      border: none;\n",
              "      border-radius: 50%;\n",
              "      cursor: pointer;\n",
              "      display: none;\n",
              "      fill: #1967D2;\n",
              "      height: 32px;\n",
              "      padding: 0 0 0 0;\n",
              "      width: 32px;\n",
              "    }\n",
              "\n",
              "    .colab-df-convert:hover {\n",
              "      background-color: #E2EBFA;\n",
              "      box-shadow: 0px 1px 2px rgba(60, 64, 67, 0.3), 0px 1px 3px 1px rgba(60, 64, 67, 0.15);\n",
              "      fill: #174EA6;\n",
              "    }\n",
              "\n",
              "    [theme=dark] .colab-df-convert {\n",
              "      background-color: #3B4455;\n",
              "      fill: #D2E3FC;\n",
              "    }\n",
              "\n",
              "    [theme=dark] .colab-df-convert:hover {\n",
              "      background-color: #434B5C;\n",
              "      box-shadow: 0px 1px 3px 1px rgba(0, 0, 0, 0.15);\n",
              "      filter: drop-shadow(0px 1px 2px rgba(0, 0, 0, 0.3));\n",
              "      fill: #FFFFFF;\n",
              "    }\n",
              "  </style>\n",
              "\n",
              "      <script>\n",
              "        const buttonEl =\n",
              "          document.querySelector('#df-fb701aea-9970-48a6-964e-567d8fb18ee2 button.colab-df-convert');\n",
              "        buttonEl.style.display =\n",
              "          google.colab.kernel.accessAllowed ? 'block' : 'none';\n",
              "\n",
              "        async function convertToInteractive(key) {\n",
              "          const element = document.querySelector('#df-fb701aea-9970-48a6-964e-567d8fb18ee2');\n",
              "          const dataTable =\n",
              "            await google.colab.kernel.invokeFunction('convertToInteractive',\n",
              "                                                     [key], {});\n",
              "          if (!dataTable) return;\n",
              "\n",
              "          const docLinkHtml = 'Like what you see? Visit the ' +\n",
              "            '<a target=\"_blank\" href=https://colab.research.google.com/notebooks/data_table.ipynb>data table notebook</a>'\n",
              "            + ' to learn more about interactive tables.';\n",
              "          element.innerHTML = '';\n",
              "          dataTable['output_type'] = 'display_data';\n",
              "          await google.colab.output.renderOutput(dataTable, element);\n",
              "          const docLink = document.createElement('div');\n",
              "          docLink.innerHTML = docLinkHtml;\n",
              "          element.appendChild(docLink);\n",
              "        }\n",
              "      </script>\n",
              "    </div>\n",
              "  </div>\n",
              "  "
            ]
          },
          "metadata": {},
          "execution_count": 41
        }
      ]
    },
    {
      "cell_type": "markdown",
      "source": [
        "From the above table, we observe that the accuracy is highest when the **maxDepth** is 10 and **numTrees** is 30. Using the above parameters to train the model on full training set."
      ],
      "metadata": {
        "id": "AeNTyBV6sjhF"
      }
    },
    {
      "cell_type": "markdown",
      "metadata": {
        "id": "ibM4yVOc32qp"
      },
      "source": [
        "### Training the model with best hyper parameters on Training Data"
      ]
    },
    {
      "cell_type": "code",
      "execution_count": null,
      "metadata": {
        "id": "zcCltcea39-k"
      },
      "outputs": [],
      "source": [
        "amazon_reviews_best_rf_model = RandomForestClassifier(labelCol='Polarity', featuresCol='Final_User_Opinions', weightCol='polarityClassWeights', maxDepth=10, numTrees=30)\n",
        "amazon_reviews_best_rf_model = amazon_reviews_best_rf_model.fit(amazon_reviews_df_train)"
      ]
    },
    {
      "cell_type": "markdown",
      "metadata": {
        "id": "wYJ7iHTwr3HT"
      },
      "source": [
        "### Evaluating on Validation Set"
      ]
    },
    {
      "cell_type": "code",
      "execution_count": null,
      "metadata": {
        "id": "SyZ4M7kmsQFm"
      },
      "outputs": [],
      "source": [
        "amazon_reviews_df_val_predictions = amazon_reviews_best_rf_model.transform(amazon_reviews_df_val)"
      ]
    },
    {
      "cell_type": "markdown",
      "metadata": {
        "id": "2fA9LCDXxW0N"
      },
      "source": [
        "#### Confusion Matrix"
      ]
    },
    {
      "cell_type": "code",
      "execution_count": null,
      "metadata": {
        "colab": {
          "base_uri": "https://localhost:8080/"
        },
        "id": "_-XDHQRis9En",
        "outputId": "55ef848f-b647-4e14-ec75-6c3794f896aa"
      },
      "outputs": [
        {
          "output_type": "stream",
          "name": "stdout",
          "text": [
            "+---------------------+-----------------+-----------------+\n",
            "|                     |Actual - Positive|Actual - Negative|\n",
            "+---------------------+-----------------+-----------------+\n",
            "|Prediction - Positive|14214            |3173             |\n",
            "|Prediction - Negative|3826             |14695            |\n",
            "+---------------------+-----------------+-----------------+\n",
            "\n"
          ]
        }
      ],
      "source": [
        "true_postives = amazon_reviews_df_val_predictions.filter((col(\"Polarity\") == 1) & (col(\"prediction\") == 1)).count()\n",
        "false_postives = amazon_reviews_df_val_predictions.filter((col(\"Polarity\") == 0) & (col(\"prediction\") == 1)).count()\n",
        "true_negatives = amazon_reviews_df_val_predictions.filter((col(\"Polarity\") == 0) & (col(\"prediction\") == 0)).count()\n",
        "false_negatives = amazon_reviews_df_val_predictions.filter((col(\"Polarity\") == 1) & (col(\"prediction\") == 0)).count()\n",
        "\n",
        "amazon_reviews_confusion_matrix = spark.createDataFrame([('Prediction - Positive', true_postives, false_postives), ('Prediction - Negative', false_negatives, true_negatives)], ['', 'Actual - Positive', 'Actual - Negative'])\n",
        "amazon_reviews_confusion_matrix.show(truncate=False)"
      ]
    },
    {
      "cell_type": "markdown",
      "metadata": {
        "id": "mvLEG9FExaDy"
      },
      "source": [
        "#### Accuracy"
      ]
    },
    {
      "cell_type": "code",
      "execution_count": null,
      "metadata": {
        "colab": {
          "base_uri": "https://localhost:8080/"
        },
        "id": "PR7maWa0vYEe",
        "outputId": "94568182-84b6-4c60-e06c-b305d948ebe7"
      },
      "outputs": [
        {
          "output_type": "stream",
          "name": "stdout",
          "text": [
            "Accuracy :  80.5085217778768\n"
          ]
        }
      ],
      "source": [
        "accuracy = ((true_postives + true_negatives)/(true_postives + true_negatives + false_postives + false_negatives)) * 100\n",
        "print('Accuracy : ', accuracy)"
      ]
    },
    {
      "cell_type": "markdown",
      "metadata": {
        "id": "ofyBLZC8xbwI"
      },
      "source": [
        "#### Precision"
      ]
    },
    {
      "cell_type": "code",
      "execution_count": null,
      "metadata": {
        "colab": {
          "base_uri": "https://localhost:8080/"
        },
        "id": "Oam0k6Jovp_a",
        "outputId": "071bdbb5-fcad-43fe-a881-1be918df1797"
      },
      "outputs": [
        {
          "output_type": "stream",
          "name": "stdout",
          "text": [
            "Precision :  0.8175073330649336\n"
          ]
        }
      ],
      "source": [
        "precision = true_postives / (true_postives + false_postives)\n",
        "print('Precision : ', precision)"
      ]
    },
    {
      "cell_type": "markdown",
      "metadata": {
        "id": "Unl-lbryxd4O"
      },
      "source": [
        "#### Recall"
      ]
    },
    {
      "cell_type": "code",
      "execution_count": null,
      "metadata": {
        "colab": {
          "base_uri": "https://localhost:8080/"
        },
        "id": "CvTTrusFwFms",
        "outputId": "e13eea0b-7d84-4dfa-9416-09b3d5a30bc9"
      },
      "outputs": [
        {
          "output_type": "stream",
          "name": "stdout",
          "text": [
            "Recall :  0.7879157427937916\n"
          ]
        }
      ],
      "source": [
        "recall = true_postives / (true_postives + false_negatives)\n",
        "print('Recall : ', recall)"
      ]
    },
    {
      "cell_type": "markdown",
      "metadata": {
        "id": "CkeeJVZXxf3x"
      },
      "source": [
        "## Logistic Regression"
      ]
    },
    {
      "cell_type": "markdown",
      "metadata": {
        "id": "Gml8ld3vz51u"
      },
      "source": [
        "### Hyper Parameter Tuning On Sampled Data"
      ]
    },
    {
      "cell_type": "code",
      "source": [
        "amazon_reviews_lr_tuning_data = pd.DataFrame(columns=['regParam', 'elasticNetParam', 'Accuracy'])\n",
        "amazon_reviews_lr_tuning_data"
      ],
      "metadata": {
        "colab": {
          "base_uri": "https://localhost:8080/",
          "height": 49
        },
        "id": "9Xib7bEF5PuD",
        "outputId": "ac053258-c8e2-44f4-8edd-7097da3330fe"
      },
      "execution_count": null,
      "outputs": [
        {
          "output_type": "execute_result",
          "data": {
            "text/plain": [
              "Empty DataFrame\n",
              "Columns: [regParam, elasticNetParam, Accuracy]\n",
              "Index: []"
            ],
            "text/html": [
              "\n",
              "  <div id=\"df-ecf55070-97ff-4d31-832b-18e4e368933c\">\n",
              "    <div class=\"colab-df-container\">\n",
              "      <div>\n",
              "<style scoped>\n",
              "    .dataframe tbody tr th:only-of-type {\n",
              "        vertical-align: middle;\n",
              "    }\n",
              "\n",
              "    .dataframe tbody tr th {\n",
              "        vertical-align: top;\n",
              "    }\n",
              "\n",
              "    .dataframe thead th {\n",
              "        text-align: right;\n",
              "    }\n",
              "</style>\n",
              "<table border=\"1\" class=\"dataframe\">\n",
              "  <thead>\n",
              "    <tr style=\"text-align: right;\">\n",
              "      <th></th>\n",
              "      <th>regParam</th>\n",
              "      <th>elasticNetParam</th>\n",
              "      <th>Accuracy</th>\n",
              "    </tr>\n",
              "  </thead>\n",
              "  <tbody>\n",
              "  </tbody>\n",
              "</table>\n",
              "</div>\n",
              "      <button class=\"colab-df-convert\" onclick=\"convertToInteractive('df-ecf55070-97ff-4d31-832b-18e4e368933c')\"\n",
              "              title=\"Convert this dataframe to an interactive table.\"\n",
              "              style=\"display:none;\">\n",
              "        \n",
              "  <svg xmlns=\"http://www.w3.org/2000/svg\" height=\"24px\"viewBox=\"0 0 24 24\"\n",
              "       width=\"24px\">\n",
              "    <path d=\"M0 0h24v24H0V0z\" fill=\"none\"/>\n",
              "    <path d=\"M18.56 5.44l.94 2.06.94-2.06 2.06-.94-2.06-.94-.94-2.06-.94 2.06-2.06.94zm-11 1L8.5 8.5l.94-2.06 2.06-.94-2.06-.94L8.5 2.5l-.94 2.06-2.06.94zm10 10l.94 2.06.94-2.06 2.06-.94-2.06-.94-.94-2.06-.94 2.06-2.06.94z\"/><path d=\"M17.41 7.96l-1.37-1.37c-.4-.4-.92-.59-1.43-.59-.52 0-1.04.2-1.43.59L10.3 9.45l-7.72 7.72c-.78.78-.78 2.05 0 2.83L4 21.41c.39.39.9.59 1.41.59.51 0 1.02-.2 1.41-.59l7.78-7.78 2.81-2.81c.8-.78.8-2.07 0-2.86zM5.41 20L4 18.59l7.72-7.72 1.47 1.35L5.41 20z\"/>\n",
              "  </svg>\n",
              "      </button>\n",
              "      \n",
              "  <style>\n",
              "    .colab-df-container {\n",
              "      display:flex;\n",
              "      flex-wrap:wrap;\n",
              "      gap: 12px;\n",
              "    }\n",
              "\n",
              "    .colab-df-convert {\n",
              "      background-color: #E8F0FE;\n",
              "      border: none;\n",
              "      border-radius: 50%;\n",
              "      cursor: pointer;\n",
              "      display: none;\n",
              "      fill: #1967D2;\n",
              "      height: 32px;\n",
              "      padding: 0 0 0 0;\n",
              "      width: 32px;\n",
              "    }\n",
              "\n",
              "    .colab-df-convert:hover {\n",
              "      background-color: #E2EBFA;\n",
              "      box-shadow: 0px 1px 2px rgba(60, 64, 67, 0.3), 0px 1px 3px 1px rgba(60, 64, 67, 0.15);\n",
              "      fill: #174EA6;\n",
              "    }\n",
              "\n",
              "    [theme=dark] .colab-df-convert {\n",
              "      background-color: #3B4455;\n",
              "      fill: #D2E3FC;\n",
              "    }\n",
              "\n",
              "    [theme=dark] .colab-df-convert:hover {\n",
              "      background-color: #434B5C;\n",
              "      box-shadow: 0px 1px 3px 1px rgba(0, 0, 0, 0.15);\n",
              "      filter: drop-shadow(0px 1px 2px rgba(0, 0, 0, 0.3));\n",
              "      fill: #FFFFFF;\n",
              "    }\n",
              "  </style>\n",
              "\n",
              "      <script>\n",
              "        const buttonEl =\n",
              "          document.querySelector('#df-ecf55070-97ff-4d31-832b-18e4e368933c button.colab-df-convert');\n",
              "        buttonEl.style.display =\n",
              "          google.colab.kernel.accessAllowed ? 'block' : 'none';\n",
              "\n",
              "        async function convertToInteractive(key) {\n",
              "          const element = document.querySelector('#df-ecf55070-97ff-4d31-832b-18e4e368933c');\n",
              "          const dataTable =\n",
              "            await google.colab.kernel.invokeFunction('convertToInteractive',\n",
              "                                                     [key], {});\n",
              "          if (!dataTable) return;\n",
              "\n",
              "          const docLinkHtml = 'Like what you see? Visit the ' +\n",
              "            '<a target=\"_blank\" href=https://colab.research.google.com/notebooks/data_table.ipynb>data table notebook</a>'\n",
              "            + ' to learn more about interactive tables.';\n",
              "          element.innerHTML = '';\n",
              "          dataTable['output_type'] = 'display_data';\n",
              "          await google.colab.output.renderOutput(dataTable, element);\n",
              "          const docLink = document.createElement('div');\n",
              "          docLink.innerHTML = docLinkHtml;\n",
              "          element.appendChild(docLink);\n",
              "        }\n",
              "      </script>\n",
              "    </div>\n",
              "  </div>\n",
              "  "
            ]
          },
          "metadata": {},
          "execution_count": 48
        }
      ]
    },
    {
      "cell_type": "code",
      "execution_count": null,
      "metadata": {
        "id": "4pASOwGjxkF9",
        "colab": {
          "base_uri": "https://localhost:8080/"
        },
        "outputId": "408e6175-b651-4288-c84c-0de3bbedb5ed"
      },
      "outputs": [
        {
          "output_type": "stream",
          "name": "stdout",
          "text": [
            "0.01 0.0\n",
            "0.01 0.5\n",
            "0.01 1.0\n",
            "0.1 0.0\n",
            "0.1 0.5\n",
            "0.1 1.0\n",
            "1.0 0.0\n",
            "1.0 0.5\n",
            "1.0 1.0\n"
          ]
        }
      ],
      "source": [
        "# Training the Logistic Regression model with different hyper parameters and storing the hyper parameters and Accuracy in a Pandas Dataframe.\n",
        "reg_params = [0.01, 0.1, 1.0]\n",
        "elastic_net_params = [0.0, 0.5, 1.0]\n",
        "\n",
        "for reg_param in reg_params:\n",
        "  for elastic_net_param in elastic_net_params:\n",
        "    amazon_reviews_lr_classifier = LogisticRegression(labelCol='Polarity', featuresCol='Final_User_Opinions', weightCol='polarityClassWeights', regParam=reg_param, elasticNetParam=elastic_net_param)\n",
        "    amazon_reviews_lr_classifier = amazon_reviews_lr_classifier.fit(amazon_reviews_df_train_sampled)\n",
        "    amazon_reviews_df_val_sampled_predictions = amazon_reviews_lr_classifier.transform(amazon_reviews_df_val_sampled)\n",
        "    accuracy = amazon_reviews_df_val_sampled_predictions.withColumn(\"correct_prediction\", when(col(\"Polarity\") == col(\"prediction\"), 1).otherwise(0)).select(avg(col(\"correct_prediction\"))).collect()[0][0]\n",
        "    amazon_reviews_lr_tuning_data = pd.concat([amazon_reviews_lr_tuning_data, pd.DataFrame({\n",
        "        'regParam': [reg_param],\n",
        "        'elasticNetParam': [elastic_net_param],\n",
        "        'Accuracy': [accuracy * 100]\n",
        "    })])\n",
        "    print(reg_param, elastic_net_param)"
      ]
    },
    {
      "cell_type": "markdown",
      "source": [
        "Results of hyper parameter tuning"
      ],
      "metadata": {
        "id": "BMD_2A6Es5k2"
      }
    },
    {
      "cell_type": "code",
      "source": [
        "amazon_reviews_lr_tuning_data"
      ],
      "metadata": {
        "colab": {
          "base_uri": "https://localhost:8080/",
          "height": 331
        },
        "id": "QQjrsgrOSMUx",
        "outputId": "6d012e83-dfa6-4881-c8cd-d4ed99eb87b6"
      },
      "execution_count": null,
      "outputs": [
        {
          "output_type": "execute_result",
          "data": {
            "text/plain": [
              "   regParam  elasticNetParam   Accuracy\n",
              "0      0.01              0.0  84.394366\n",
              "0      0.01              0.5  83.549296\n",
              "0      0.01              1.0  82.985915\n",
              "0      0.10              0.0  83.605634\n",
              "0      0.10              0.5  77.267606\n",
              "0      0.10              1.0  74.647887\n",
              "0      1.00              0.0  80.760563\n",
              "0      1.00              0.5  50.535211\n",
              "0      1.00              1.0  50.535211"
            ],
            "text/html": [
              "\n",
              "  <div id=\"df-4081e621-5882-4aa7-a258-03e5455ee512\">\n",
              "    <div class=\"colab-df-container\">\n",
              "      <div>\n",
              "<style scoped>\n",
              "    .dataframe tbody tr th:only-of-type {\n",
              "        vertical-align: middle;\n",
              "    }\n",
              "\n",
              "    .dataframe tbody tr th {\n",
              "        vertical-align: top;\n",
              "    }\n",
              "\n",
              "    .dataframe thead th {\n",
              "        text-align: right;\n",
              "    }\n",
              "</style>\n",
              "<table border=\"1\" class=\"dataframe\">\n",
              "  <thead>\n",
              "    <tr style=\"text-align: right;\">\n",
              "      <th></th>\n",
              "      <th>regParam</th>\n",
              "      <th>elasticNetParam</th>\n",
              "      <th>Accuracy</th>\n",
              "    </tr>\n",
              "  </thead>\n",
              "  <tbody>\n",
              "    <tr>\n",
              "      <th>0</th>\n",
              "      <td>0.01</td>\n",
              "      <td>0.0</td>\n",
              "      <td>84.394366</td>\n",
              "    </tr>\n",
              "    <tr>\n",
              "      <th>0</th>\n",
              "      <td>0.01</td>\n",
              "      <td>0.5</td>\n",
              "      <td>83.549296</td>\n",
              "    </tr>\n",
              "    <tr>\n",
              "      <th>0</th>\n",
              "      <td>0.01</td>\n",
              "      <td>1.0</td>\n",
              "      <td>82.985915</td>\n",
              "    </tr>\n",
              "    <tr>\n",
              "      <th>0</th>\n",
              "      <td>0.10</td>\n",
              "      <td>0.0</td>\n",
              "      <td>83.605634</td>\n",
              "    </tr>\n",
              "    <tr>\n",
              "      <th>0</th>\n",
              "      <td>0.10</td>\n",
              "      <td>0.5</td>\n",
              "      <td>77.267606</td>\n",
              "    </tr>\n",
              "    <tr>\n",
              "      <th>0</th>\n",
              "      <td>0.10</td>\n",
              "      <td>1.0</td>\n",
              "      <td>74.647887</td>\n",
              "    </tr>\n",
              "    <tr>\n",
              "      <th>0</th>\n",
              "      <td>1.00</td>\n",
              "      <td>0.0</td>\n",
              "      <td>80.760563</td>\n",
              "    </tr>\n",
              "    <tr>\n",
              "      <th>0</th>\n",
              "      <td>1.00</td>\n",
              "      <td>0.5</td>\n",
              "      <td>50.535211</td>\n",
              "    </tr>\n",
              "    <tr>\n",
              "      <th>0</th>\n",
              "      <td>1.00</td>\n",
              "      <td>1.0</td>\n",
              "      <td>50.535211</td>\n",
              "    </tr>\n",
              "  </tbody>\n",
              "</table>\n",
              "</div>\n",
              "      <button class=\"colab-df-convert\" onclick=\"convertToInteractive('df-4081e621-5882-4aa7-a258-03e5455ee512')\"\n",
              "              title=\"Convert this dataframe to an interactive table.\"\n",
              "              style=\"display:none;\">\n",
              "        \n",
              "  <svg xmlns=\"http://www.w3.org/2000/svg\" height=\"24px\"viewBox=\"0 0 24 24\"\n",
              "       width=\"24px\">\n",
              "    <path d=\"M0 0h24v24H0V0z\" fill=\"none\"/>\n",
              "    <path d=\"M18.56 5.44l.94 2.06.94-2.06 2.06-.94-2.06-.94-.94-2.06-.94 2.06-2.06.94zm-11 1L8.5 8.5l.94-2.06 2.06-.94-2.06-.94L8.5 2.5l-.94 2.06-2.06.94zm10 10l.94 2.06.94-2.06 2.06-.94-2.06-.94-.94-2.06-.94 2.06-2.06.94z\"/><path d=\"M17.41 7.96l-1.37-1.37c-.4-.4-.92-.59-1.43-.59-.52 0-1.04.2-1.43.59L10.3 9.45l-7.72 7.72c-.78.78-.78 2.05 0 2.83L4 21.41c.39.39.9.59 1.41.59.51 0 1.02-.2 1.41-.59l7.78-7.78 2.81-2.81c.8-.78.8-2.07 0-2.86zM5.41 20L4 18.59l7.72-7.72 1.47 1.35L5.41 20z\"/>\n",
              "  </svg>\n",
              "      </button>\n",
              "      \n",
              "  <style>\n",
              "    .colab-df-container {\n",
              "      display:flex;\n",
              "      flex-wrap:wrap;\n",
              "      gap: 12px;\n",
              "    }\n",
              "\n",
              "    .colab-df-convert {\n",
              "      background-color: #E8F0FE;\n",
              "      border: none;\n",
              "      border-radius: 50%;\n",
              "      cursor: pointer;\n",
              "      display: none;\n",
              "      fill: #1967D2;\n",
              "      height: 32px;\n",
              "      padding: 0 0 0 0;\n",
              "      width: 32px;\n",
              "    }\n",
              "\n",
              "    .colab-df-convert:hover {\n",
              "      background-color: #E2EBFA;\n",
              "      box-shadow: 0px 1px 2px rgba(60, 64, 67, 0.3), 0px 1px 3px 1px rgba(60, 64, 67, 0.15);\n",
              "      fill: #174EA6;\n",
              "    }\n",
              "\n",
              "    [theme=dark] .colab-df-convert {\n",
              "      background-color: #3B4455;\n",
              "      fill: #D2E3FC;\n",
              "    }\n",
              "\n",
              "    [theme=dark] .colab-df-convert:hover {\n",
              "      background-color: #434B5C;\n",
              "      box-shadow: 0px 1px 3px 1px rgba(0, 0, 0, 0.15);\n",
              "      filter: drop-shadow(0px 1px 2px rgba(0, 0, 0, 0.3));\n",
              "      fill: #FFFFFF;\n",
              "    }\n",
              "  </style>\n",
              "\n",
              "      <script>\n",
              "        const buttonEl =\n",
              "          document.querySelector('#df-4081e621-5882-4aa7-a258-03e5455ee512 button.colab-df-convert');\n",
              "        buttonEl.style.display =\n",
              "          google.colab.kernel.accessAllowed ? 'block' : 'none';\n",
              "\n",
              "        async function convertToInteractive(key) {\n",
              "          const element = document.querySelector('#df-4081e621-5882-4aa7-a258-03e5455ee512');\n",
              "          const dataTable =\n",
              "            await google.colab.kernel.invokeFunction('convertToInteractive',\n",
              "                                                     [key], {});\n",
              "          if (!dataTable) return;\n",
              "\n",
              "          const docLinkHtml = 'Like what you see? Visit the ' +\n",
              "            '<a target=\"_blank\" href=https://colab.research.google.com/notebooks/data_table.ipynb>data table notebook</a>'\n",
              "            + ' to learn more about interactive tables.';\n",
              "          element.innerHTML = '';\n",
              "          dataTable['output_type'] = 'display_data';\n",
              "          await google.colab.output.renderOutput(dataTable, element);\n",
              "          const docLink = document.createElement('div');\n",
              "          docLink.innerHTML = docLinkHtml;\n",
              "          element.appendChild(docLink);\n",
              "        }\n",
              "      </script>\n",
              "    </div>\n",
              "  </div>\n",
              "  "
            ]
          },
          "metadata": {},
          "execution_count": 50
        }
      ]
    },
    {
      "cell_type": "markdown",
      "source": [
        "From the above table, we observe that the optimal hyper parameters were **regParam=0.01** and **elasticNetParam=0.0**"
      ],
      "metadata": {
        "id": "ofiL9m91s_2D"
      }
    },
    {
      "cell_type": "markdown",
      "source": [
        "### Training the model with best hyper parameters on Training Data"
      ],
      "metadata": {
        "id": "wjWF1IARLUal"
      }
    },
    {
      "cell_type": "code",
      "source": [
        "amazon_reviews_best_lr_model = LogisticRegression(labelCol='Polarity', featuresCol='Final_User_Opinions', weightCol='polarityClassWeights',\n",
        "                                                      regParam=0.01, elasticNetParam=0.0)\n",
        "amazon_reviews_best_lr_model = amazon_reviews_best_lr_model.fit(amazon_reviews_df_train)"
      ],
      "metadata": {
        "id": "xt7lt1GuLakd"
      },
      "execution_count": null,
      "outputs": []
    },
    {
      "cell_type": "markdown",
      "metadata": {
        "id": "hKswiIu_ykh7"
      },
      "source": [
        "### Evaluating on Validation Set"
      ]
    },
    {
      "cell_type": "code",
      "execution_count": null,
      "metadata": {
        "id": "6I_vWyRCyoWp"
      },
      "outputs": [],
      "source": [
        "amazon_reviews_df_val_predictions = amazon_reviews_best_lr_model.transform(amazon_reviews_df_val)"
      ]
    },
    {
      "cell_type": "markdown",
      "metadata": {
        "id": "6Yex99dJyyM3"
      },
      "source": [
        "#### Confusion Matrix"
      ]
    },
    {
      "cell_type": "code",
      "execution_count": null,
      "metadata": {
        "id": "Y1ns_wnRy0r5",
        "colab": {
          "base_uri": "https://localhost:8080/"
        },
        "outputId": "1ee1601b-5924-4cec-ba68-06a1ffdc13bb"
      },
      "outputs": [
        {
          "output_type": "stream",
          "name": "stdout",
          "text": [
            "+---------------------+-----------------+-----------------+\n",
            "|                     |Actual - Positive|Actual - Negative|\n",
            "+---------------------+-----------------+-----------------+\n",
            "|Prediction - Positive|15293            |2646             |\n",
            "|Prediction - Negative|2747             |15222            |\n",
            "+---------------------+-----------------+-----------------+\n",
            "\n"
          ]
        }
      ],
      "source": [
        "true_postives = amazon_reviews_df_val_predictions.filter((col(\"Polarity\") == 1) & (col(\"prediction\") == 1)).count()\n",
        "false_postives = amazon_reviews_df_val_predictions.filter((col(\"Polarity\") == 0) & (col(\"prediction\") == 1)).count()\n",
        "true_negatives = amazon_reviews_df_val_predictions.filter((col(\"Polarity\") == 0) & (col(\"prediction\") == 0)).count()\n",
        "false_negatives = amazon_reviews_df_val_predictions.filter((col(\"Polarity\") == 1) & (col(\"prediction\") == 0)).count()\n",
        "\n",
        "amazon_reviews_confusion_matrix = spark.createDataFrame([('Prediction - Positive', true_postives, false_postives), ('Prediction - Negative', false_negatives, true_negatives)], ['', 'Actual - Positive', 'Actual - Negative'])\n",
        "amazon_reviews_confusion_matrix.show(truncate=False)"
      ]
    },
    {
      "cell_type": "markdown",
      "metadata": {
        "id": "G_zkHR_Wy4a_"
      },
      "source": [
        "#### Accuracy"
      ]
    },
    {
      "cell_type": "code",
      "execution_count": null,
      "metadata": {
        "id": "eEHWgJody6rZ",
        "colab": {
          "base_uri": "https://localhost:8080/"
        },
        "outputId": "961930a4-1f3a-4b59-ea8f-ec486459e4fb"
      },
      "outputs": [
        {
          "output_type": "stream",
          "name": "stdout",
          "text": [
            "Accuracy :  84.98106271582934\n"
          ]
        }
      ],
      "source": [
        "accuracy = ((true_postives + true_negatives)/(true_postives + true_negatives + false_postives + false_negatives)) * 100\n",
        "print('Accuracy : ', accuracy)"
      ]
    },
    {
      "cell_type": "markdown",
      "metadata": {
        "id": "52QNTSUJy9ta"
      },
      "source": [
        "#### Precision"
      ]
    },
    {
      "cell_type": "code",
      "execution_count": null,
      "metadata": {
        "id": "z4klvNImy__C",
        "colab": {
          "base_uri": "https://localhost:8080/"
        },
        "outputId": "17cce634-09d4-4d6b-efa1-2854d057ff03"
      },
      "outputs": [
        {
          "output_type": "stream",
          "name": "stdout",
          "text": [
            "Precision :  0.8525001393611684\n"
          ]
        }
      ],
      "source": [
        "precision = true_postives / (true_postives + false_postives)\n",
        "print('Precision : ', precision)"
      ]
    },
    {
      "cell_type": "markdown",
      "metadata": {
        "id": "5kaxaATszUbH"
      },
      "source": [
        "#### Recall"
      ]
    },
    {
      "cell_type": "code",
      "execution_count": null,
      "metadata": {
        "id": "9HlYu1ezzOKH",
        "colab": {
          "base_uri": "https://localhost:8080/"
        },
        "outputId": "c89c56fd-daf5-44dd-e3c4-f5f13380696e"
      },
      "outputs": [
        {
          "output_type": "stream",
          "name": "stdout",
          "text": [
            "Recall :  0.8477272727272728\n"
          ]
        }
      ],
      "source": [
        "recall = true_postives / (true_postives + false_negatives)\n",
        "print('Recall : ', recall)"
      ]
    },
    {
      "cell_type": "markdown",
      "metadata": {
        "id": "omde92vwzfe5"
      },
      "source": [
        "## Support Vector Classifier"
      ]
    },
    {
      "cell_type": "markdown",
      "metadata": {
        "id": "CtMqs9VIz_dk"
      },
      "source": [
        "### Hyper Parameter Tuning On Sampled Data"
      ]
    },
    {
      "cell_type": "code",
      "source": [
        "amazon_reviews_svc_tuning_data = pd.DataFrame(columns=['regParam', 'maxIter', 'Accuracy'])\n",
        "amazon_reviews_svc_tuning_data"
      ],
      "metadata": {
        "colab": {
          "base_uri": "https://localhost:8080/",
          "height": 49
        },
        "id": "d_zESdfpS0hP",
        "outputId": "e744c55d-e5cd-4d01-e483-ed563ae2e17d"
      },
      "execution_count": null,
      "outputs": [
        {
          "output_type": "execute_result",
          "data": {
            "text/plain": [
              "Empty DataFrame\n",
              "Columns: [regParam, maxIter, Accuracy]\n",
              "Index: []"
            ],
            "text/html": [
              "\n",
              "  <div id=\"df-394bac42-4d1d-41c2-bcda-f8b1a1bd494c\">\n",
              "    <div class=\"colab-df-container\">\n",
              "      <div>\n",
              "<style scoped>\n",
              "    .dataframe tbody tr th:only-of-type {\n",
              "        vertical-align: middle;\n",
              "    }\n",
              "\n",
              "    .dataframe tbody tr th {\n",
              "        vertical-align: top;\n",
              "    }\n",
              "\n",
              "    .dataframe thead th {\n",
              "        text-align: right;\n",
              "    }\n",
              "</style>\n",
              "<table border=\"1\" class=\"dataframe\">\n",
              "  <thead>\n",
              "    <tr style=\"text-align: right;\">\n",
              "      <th></th>\n",
              "      <th>regParam</th>\n",
              "      <th>maxIter</th>\n",
              "      <th>Accuracy</th>\n",
              "    </tr>\n",
              "  </thead>\n",
              "  <tbody>\n",
              "  </tbody>\n",
              "</table>\n",
              "</div>\n",
              "      <button class=\"colab-df-convert\" onclick=\"convertToInteractive('df-394bac42-4d1d-41c2-bcda-f8b1a1bd494c')\"\n",
              "              title=\"Convert this dataframe to an interactive table.\"\n",
              "              style=\"display:none;\">\n",
              "        \n",
              "  <svg xmlns=\"http://www.w3.org/2000/svg\" height=\"24px\"viewBox=\"0 0 24 24\"\n",
              "       width=\"24px\">\n",
              "    <path d=\"M0 0h24v24H0V0z\" fill=\"none\"/>\n",
              "    <path d=\"M18.56 5.44l.94 2.06.94-2.06 2.06-.94-2.06-.94-.94-2.06-.94 2.06-2.06.94zm-11 1L8.5 8.5l.94-2.06 2.06-.94-2.06-.94L8.5 2.5l-.94 2.06-2.06.94zm10 10l.94 2.06.94-2.06 2.06-.94-2.06-.94-.94-2.06-.94 2.06-2.06.94z\"/><path d=\"M17.41 7.96l-1.37-1.37c-.4-.4-.92-.59-1.43-.59-.52 0-1.04.2-1.43.59L10.3 9.45l-7.72 7.72c-.78.78-.78 2.05 0 2.83L4 21.41c.39.39.9.59 1.41.59.51 0 1.02-.2 1.41-.59l7.78-7.78 2.81-2.81c.8-.78.8-2.07 0-2.86zM5.41 20L4 18.59l7.72-7.72 1.47 1.35L5.41 20z\"/>\n",
              "  </svg>\n",
              "      </button>\n",
              "      \n",
              "  <style>\n",
              "    .colab-df-container {\n",
              "      display:flex;\n",
              "      flex-wrap:wrap;\n",
              "      gap: 12px;\n",
              "    }\n",
              "\n",
              "    .colab-df-convert {\n",
              "      background-color: #E8F0FE;\n",
              "      border: none;\n",
              "      border-radius: 50%;\n",
              "      cursor: pointer;\n",
              "      display: none;\n",
              "      fill: #1967D2;\n",
              "      height: 32px;\n",
              "      padding: 0 0 0 0;\n",
              "      width: 32px;\n",
              "    }\n",
              "\n",
              "    .colab-df-convert:hover {\n",
              "      background-color: #E2EBFA;\n",
              "      box-shadow: 0px 1px 2px rgba(60, 64, 67, 0.3), 0px 1px 3px 1px rgba(60, 64, 67, 0.15);\n",
              "      fill: #174EA6;\n",
              "    }\n",
              "\n",
              "    [theme=dark] .colab-df-convert {\n",
              "      background-color: #3B4455;\n",
              "      fill: #D2E3FC;\n",
              "    }\n",
              "\n",
              "    [theme=dark] .colab-df-convert:hover {\n",
              "      background-color: #434B5C;\n",
              "      box-shadow: 0px 1px 3px 1px rgba(0, 0, 0, 0.15);\n",
              "      filter: drop-shadow(0px 1px 2px rgba(0, 0, 0, 0.3));\n",
              "      fill: #FFFFFF;\n",
              "    }\n",
              "  </style>\n",
              "\n",
              "      <script>\n",
              "        const buttonEl =\n",
              "          document.querySelector('#df-394bac42-4d1d-41c2-bcda-f8b1a1bd494c button.colab-df-convert');\n",
              "        buttonEl.style.display =\n",
              "          google.colab.kernel.accessAllowed ? 'block' : 'none';\n",
              "\n",
              "        async function convertToInteractive(key) {\n",
              "          const element = document.querySelector('#df-394bac42-4d1d-41c2-bcda-f8b1a1bd494c');\n",
              "          const dataTable =\n",
              "            await google.colab.kernel.invokeFunction('convertToInteractive',\n",
              "                                                     [key], {});\n",
              "          if (!dataTable) return;\n",
              "\n",
              "          const docLinkHtml = 'Like what you see? Visit the ' +\n",
              "            '<a target=\"_blank\" href=https://colab.research.google.com/notebooks/data_table.ipynb>data table notebook</a>'\n",
              "            + ' to learn more about interactive tables.';\n",
              "          element.innerHTML = '';\n",
              "          dataTable['output_type'] = 'display_data';\n",
              "          await google.colab.output.renderOutput(dataTable, element);\n",
              "          const docLink = document.createElement('div');\n",
              "          docLink.innerHTML = docLinkHtml;\n",
              "          element.appendChild(docLink);\n",
              "        }\n",
              "      </script>\n",
              "    </div>\n",
              "  </div>\n",
              "  "
            ]
          },
          "metadata": {},
          "execution_count": 63
        }
      ]
    },
    {
      "cell_type": "code",
      "execution_count": null,
      "metadata": {
        "id": "GVyD3H-wznrl",
        "colab": {
          "base_uri": "https://localhost:8080/"
        },
        "outputId": "de072314-d303-4676-efa7-a0b2d734da19"
      },
      "outputs": [
        {
          "output_type": "stream",
          "name": "stdout",
          "text": [
            "0.01 5\n",
            "0.01 10\n",
            "0.01 20\n",
            "0.1 5\n",
            "0.1 10\n",
            "0.1 20\n",
            "1 5\n",
            "1 10\n",
            "1 20\n"
          ]
        }
      ],
      "source": [
        "# Training the Support Vector Classifier with different hyper parameters and storing the hyper parameters and Accuracy in a Pandas Dataframe.\n",
        "reg_params =  [0.01, 0.1, 1]\n",
        "max_iters = [5, 10, 20]\n",
        "\n",
        "for reg_param in reg_params:\n",
        "  for max_iter in max_iters:\n",
        "    amazon_reviews_svc_classifier = LinearSVC(labelCol='Polarity', featuresCol='Final_User_Opinions', weightCol='polarityClassWeights', regParam=reg_param, maxIter=max_iter)\n",
        "    amazon_reviews_svc_classifier = amazon_reviews_svc_classifier.fit(amazon_reviews_df_train_sampled)\n",
        "    amazon_reviews_df_val_sampled_predictions = amazon_reviews_svc_classifier.transform(amazon_reviews_df_val_sampled)\n",
        "    accuracy = amazon_reviews_df_val_sampled_predictions.withColumn(\"correct_prediction\", when(col(\"Polarity\") == col(\"prediction\"), 1).otherwise(0)).select(avg(col(\"correct_prediction\"))).collect()[0][0]\n",
        "    amazon_reviews_svc_tuning_data = pd.concat([amazon_reviews_svc_tuning_data, pd.DataFrame({\n",
        "          'regParam': [reg_param],\n",
        "          'maxIter': [max_iter],\n",
        "          'Accuracy': [accuracy * 100]\n",
        "      })])\n",
        "    print(reg_param, max_iter)"
      ]
    },
    {
      "cell_type": "markdown",
      "source": [
        "Results of hyper parameter tuning"
      ],
      "metadata": {
        "id": "3Y_lbwe7trZl"
      }
    },
    {
      "cell_type": "code",
      "source": [
        "amazon_reviews_svc_tuning_data"
      ],
      "metadata": {
        "colab": {
          "base_uri": "https://localhost:8080/",
          "height": 331
        },
        "id": "ok_EBCznTfsM",
        "outputId": "b1a0ab3b-cdb2-4d39-ecd0-e5b7178d8f81"
      },
      "execution_count": null,
      "outputs": [
        {
          "output_type": "execute_result",
          "data": {
            "text/plain": [
              "   regParam maxIter   Accuracy\n",
              "0      0.01       5  82.450704\n",
              "0      0.01      10  84.394366\n",
              "0      0.01      20  84.309859\n",
              "0      0.10       5  82.366197\n",
              "0      0.10      10  84.140845\n",
              "0      0.10      20  84.366197\n",
              "0      1.00       5  81.295775\n",
              "0      1.00      10  81.971831\n",
              "0      1.00      20  81.971831"
            ],
            "text/html": [
              "\n",
              "  <div id=\"df-0803ac65-a423-48b4-8978-fa96793e426f\">\n",
              "    <div class=\"colab-df-container\">\n",
              "      <div>\n",
              "<style scoped>\n",
              "    .dataframe tbody tr th:only-of-type {\n",
              "        vertical-align: middle;\n",
              "    }\n",
              "\n",
              "    .dataframe tbody tr th {\n",
              "        vertical-align: top;\n",
              "    }\n",
              "\n",
              "    .dataframe thead th {\n",
              "        text-align: right;\n",
              "    }\n",
              "</style>\n",
              "<table border=\"1\" class=\"dataframe\">\n",
              "  <thead>\n",
              "    <tr style=\"text-align: right;\">\n",
              "      <th></th>\n",
              "      <th>regParam</th>\n",
              "      <th>maxIter</th>\n",
              "      <th>Accuracy</th>\n",
              "    </tr>\n",
              "  </thead>\n",
              "  <tbody>\n",
              "    <tr>\n",
              "      <th>0</th>\n",
              "      <td>0.01</td>\n",
              "      <td>5</td>\n",
              "      <td>82.450704</td>\n",
              "    </tr>\n",
              "    <tr>\n",
              "      <th>0</th>\n",
              "      <td>0.01</td>\n",
              "      <td>10</td>\n",
              "      <td>84.394366</td>\n",
              "    </tr>\n",
              "    <tr>\n",
              "      <th>0</th>\n",
              "      <td>0.01</td>\n",
              "      <td>20</td>\n",
              "      <td>84.309859</td>\n",
              "    </tr>\n",
              "    <tr>\n",
              "      <th>0</th>\n",
              "      <td>0.10</td>\n",
              "      <td>5</td>\n",
              "      <td>82.366197</td>\n",
              "    </tr>\n",
              "    <tr>\n",
              "      <th>0</th>\n",
              "      <td>0.10</td>\n",
              "      <td>10</td>\n",
              "      <td>84.140845</td>\n",
              "    </tr>\n",
              "    <tr>\n",
              "      <th>0</th>\n",
              "      <td>0.10</td>\n",
              "      <td>20</td>\n",
              "      <td>84.366197</td>\n",
              "    </tr>\n",
              "    <tr>\n",
              "      <th>0</th>\n",
              "      <td>1.00</td>\n",
              "      <td>5</td>\n",
              "      <td>81.295775</td>\n",
              "    </tr>\n",
              "    <tr>\n",
              "      <th>0</th>\n",
              "      <td>1.00</td>\n",
              "      <td>10</td>\n",
              "      <td>81.971831</td>\n",
              "    </tr>\n",
              "    <tr>\n",
              "      <th>0</th>\n",
              "      <td>1.00</td>\n",
              "      <td>20</td>\n",
              "      <td>81.971831</td>\n",
              "    </tr>\n",
              "  </tbody>\n",
              "</table>\n",
              "</div>\n",
              "      <button class=\"colab-df-convert\" onclick=\"convertToInteractive('df-0803ac65-a423-48b4-8978-fa96793e426f')\"\n",
              "              title=\"Convert this dataframe to an interactive table.\"\n",
              "              style=\"display:none;\">\n",
              "        \n",
              "  <svg xmlns=\"http://www.w3.org/2000/svg\" height=\"24px\"viewBox=\"0 0 24 24\"\n",
              "       width=\"24px\">\n",
              "    <path d=\"M0 0h24v24H0V0z\" fill=\"none\"/>\n",
              "    <path d=\"M18.56 5.44l.94 2.06.94-2.06 2.06-.94-2.06-.94-.94-2.06-.94 2.06-2.06.94zm-11 1L8.5 8.5l.94-2.06 2.06-.94-2.06-.94L8.5 2.5l-.94 2.06-2.06.94zm10 10l.94 2.06.94-2.06 2.06-.94-2.06-.94-.94-2.06-.94 2.06-2.06.94z\"/><path d=\"M17.41 7.96l-1.37-1.37c-.4-.4-.92-.59-1.43-.59-.52 0-1.04.2-1.43.59L10.3 9.45l-7.72 7.72c-.78.78-.78 2.05 0 2.83L4 21.41c.39.39.9.59 1.41.59.51 0 1.02-.2 1.41-.59l7.78-7.78 2.81-2.81c.8-.78.8-2.07 0-2.86zM5.41 20L4 18.59l7.72-7.72 1.47 1.35L5.41 20z\"/>\n",
              "  </svg>\n",
              "      </button>\n",
              "      \n",
              "  <style>\n",
              "    .colab-df-container {\n",
              "      display:flex;\n",
              "      flex-wrap:wrap;\n",
              "      gap: 12px;\n",
              "    }\n",
              "\n",
              "    .colab-df-convert {\n",
              "      background-color: #E8F0FE;\n",
              "      border: none;\n",
              "      border-radius: 50%;\n",
              "      cursor: pointer;\n",
              "      display: none;\n",
              "      fill: #1967D2;\n",
              "      height: 32px;\n",
              "      padding: 0 0 0 0;\n",
              "      width: 32px;\n",
              "    }\n",
              "\n",
              "    .colab-df-convert:hover {\n",
              "      background-color: #E2EBFA;\n",
              "      box-shadow: 0px 1px 2px rgba(60, 64, 67, 0.3), 0px 1px 3px 1px rgba(60, 64, 67, 0.15);\n",
              "      fill: #174EA6;\n",
              "    }\n",
              "\n",
              "    [theme=dark] .colab-df-convert {\n",
              "      background-color: #3B4455;\n",
              "      fill: #D2E3FC;\n",
              "    }\n",
              "\n",
              "    [theme=dark] .colab-df-convert:hover {\n",
              "      background-color: #434B5C;\n",
              "      box-shadow: 0px 1px 3px 1px rgba(0, 0, 0, 0.15);\n",
              "      filter: drop-shadow(0px 1px 2px rgba(0, 0, 0, 0.3));\n",
              "      fill: #FFFFFF;\n",
              "    }\n",
              "  </style>\n",
              "\n",
              "      <script>\n",
              "        const buttonEl =\n",
              "          document.querySelector('#df-0803ac65-a423-48b4-8978-fa96793e426f button.colab-df-convert');\n",
              "        buttonEl.style.display =\n",
              "          google.colab.kernel.accessAllowed ? 'block' : 'none';\n",
              "\n",
              "        async function convertToInteractive(key) {\n",
              "          const element = document.querySelector('#df-0803ac65-a423-48b4-8978-fa96793e426f');\n",
              "          const dataTable =\n",
              "            await google.colab.kernel.invokeFunction('convertToInteractive',\n",
              "                                                     [key], {});\n",
              "          if (!dataTable) return;\n",
              "\n",
              "          const docLinkHtml = 'Like what you see? Visit the ' +\n",
              "            '<a target=\"_blank\" href=https://colab.research.google.com/notebooks/data_table.ipynb>data table notebook</a>'\n",
              "            + ' to learn more about interactive tables.';\n",
              "          element.innerHTML = '';\n",
              "          dataTable['output_type'] = 'display_data';\n",
              "          await google.colab.output.renderOutput(dataTable, element);\n",
              "          const docLink = document.createElement('div');\n",
              "          docLink.innerHTML = docLinkHtml;\n",
              "          element.appendChild(docLink);\n",
              "        }\n",
              "      </script>\n",
              "    </div>\n",
              "  </div>\n",
              "  "
            ]
          },
          "metadata": {},
          "execution_count": 65
        }
      ]
    },
    {
      "cell_type": "markdown",
      "source": [
        "From the above table, we observe that the optimal hyper parameters were **regParam**=0.01, **maxIter**=10"
      ],
      "metadata": {
        "id": "HFNgkBbut0gi"
      }
    },
    {
      "cell_type": "markdown",
      "source": [
        "### Training the model with best hyper parameters on Training Data"
      ],
      "metadata": {
        "id": "drNbqJOqMHgz"
      }
    },
    {
      "cell_type": "code",
      "source": [
        "amazon_reviews_best_svc_model = LinearSVC(labelCol='Polarity', featuresCol='Final_User_Opinions', weightCol='polarityClassWeights',\n",
        "                                                      regParam=0.01, maxIter=10)\n",
        "amazon_reviews_best_svc_model = amazon_reviews_best_svc_model.fit(amazon_reviews_df_train)"
      ],
      "metadata": {
        "id": "S76U9lIjMIP_"
      },
      "execution_count": null,
      "outputs": []
    },
    {
      "cell_type": "markdown",
      "metadata": {
        "id": "zas_akui0afX"
      },
      "source": [
        "### Evaluation on Validation Set"
      ]
    },
    {
      "cell_type": "code",
      "execution_count": null,
      "metadata": {
        "id": "-UkCnoYC0YwQ"
      },
      "outputs": [],
      "source": [
        "amazon_reviews_df_val_predictions = amazon_reviews_best_svc_model.transform(amazon_reviews_df_val)"
      ]
    },
    {
      "cell_type": "markdown",
      "metadata": {
        "id": "jD8EJUM80h8W"
      },
      "source": [
        "#### Confusion Matrix"
      ]
    },
    {
      "cell_type": "code",
      "execution_count": null,
      "metadata": {
        "id": "5QHJNILW0hJI",
        "colab": {
          "base_uri": "https://localhost:8080/"
        },
        "outputId": "1eb61570-5ea8-4679-943c-652078f91425"
      },
      "outputs": [
        {
          "output_type": "stream",
          "name": "stdout",
          "text": [
            "+---------------------+-----------------+-----------------+\n",
            "|                     |Actual - Positive|Actual - Negative|\n",
            "+---------------------+-----------------+-----------------+\n",
            "|Prediction - Positive|15284            |2680             |\n",
            "|Prediction - Negative|2756             |15188            |\n",
            "+---------------------+-----------------+-----------------+\n",
            "\n"
          ]
        }
      ],
      "source": [
        "true_postives = amazon_reviews_df_val_predictions.filter((col(\"Polarity\") == 1) & (col(\"prediction\") == 1)).count()\n",
        "false_postives = amazon_reviews_df_val_predictions.filter((col(\"Polarity\") == 0) & (col(\"prediction\") == 1)).count()\n",
        "true_negatives = amazon_reviews_df_val_predictions.filter((col(\"Polarity\") == 0) & (col(\"prediction\") == 0)).count()\n",
        "false_negatives = amazon_reviews_df_val_predictions.filter((col(\"Polarity\") == 1) & (col(\"prediction\") == 0)).count()\n",
        "\n",
        "amazon_reviews_confusion_matrix = spark.createDataFrame([('Prediction - Positive', true_postives, false_postives), ('Prediction - Negative', false_negatives, true_negatives)], ['', 'Actual - Positive', 'Actual - Negative'])\n",
        "amazon_reviews_confusion_matrix.show(truncate=False)"
      ]
    },
    {
      "cell_type": "markdown",
      "metadata": {
        "id": "9YP7KOOg0k1V"
      },
      "source": [
        "#### Accuracy"
      ]
    },
    {
      "cell_type": "code",
      "execution_count": null,
      "metadata": {
        "id": "hXaxk2OF0mch",
        "colab": {
          "base_uri": "https://localhost:8080/"
        },
        "outputId": "47d4e111-fd45-48da-99d4-9ceb08f4944e"
      },
      "outputs": [
        {
          "output_type": "stream",
          "name": "stdout",
          "text": [
            "Accuracy :  84.86131224239723\n"
          ]
        }
      ],
      "source": [
        "accuracy = ((true_postives + true_negatives)/(true_postives + true_negatives + false_postives + false_negatives)) * 100\n",
        "print('Accuracy : ', accuracy)"
      ]
    },
    {
      "cell_type": "markdown",
      "metadata": {
        "id": "emDL7LWq0m2d"
      },
      "source": [
        "#### Precision"
      ]
    },
    {
      "cell_type": "code",
      "execution_count": null,
      "metadata": {
        "id": "20V-21910oRc",
        "colab": {
          "base_uri": "https://localhost:8080/"
        },
        "outputId": "ac4b5b7f-45a8-4d56-ccdb-bb761b0ee413"
      },
      "outputs": [
        {
          "output_type": "stream",
          "name": "stdout",
          "text": [
            "Precision :  0.8508127365842797\n"
          ]
        }
      ],
      "source": [
        "precision = true_postives / (true_postives + false_postives)\n",
        "print('Precision : ', precision)"
      ]
    },
    {
      "cell_type": "markdown",
      "metadata": {
        "id": "MoEltkWp0og-"
      },
      "source": [
        "#### Recall"
      ]
    },
    {
      "cell_type": "code",
      "execution_count": null,
      "metadata": {
        "id": "i-7CAd_z0p5b",
        "colab": {
          "base_uri": "https://localhost:8080/"
        },
        "outputId": "a7bf5b59-71c3-45dd-966c-4a33c55c9b67"
      },
      "outputs": [
        {
          "output_type": "stream",
          "name": "stdout",
          "text": [
            "Recall :  0.8472283813747228\n"
          ]
        }
      ],
      "source": [
        "recall = true_postives / (true_postives + false_negatives)\n",
        "print('Recall : ', recall)"
      ]
    },
    {
      "cell_type": "markdown",
      "metadata": {
        "id": "W5adRR2t08tC"
      },
      "source": [
        "## Selecting the best model"
      ]
    },
    {
      "cell_type": "markdown",
      "source": [
        "From the above evaluations on the three models, we observe that **Logistic Regression** performed slightly better when compared with the other two models."
      ],
      "metadata": {
        "id": "57eNGgHGuBbx"
      }
    },
    {
      "cell_type": "code",
      "execution_count": null,
      "metadata": {
        "id": "geWtNt5D1FZ3"
      },
      "outputs": [],
      "source": [
        "amazon_reviews_model = LogisticRegression(labelCol='Polarity', featuresCol='Final_User_Opinions', weightCol='polarityClassWeights',\n",
        "                                                      regParam=0.01, elasticNetParam=0.0)\n",
        "amazon_reviews_model = amazon_reviews_model.fit(amazon_reviews_df)"
      ]
    },
    {
      "cell_type": "markdown",
      "metadata": {
        "id": "reeA-bVl2Jqi"
      },
      "source": [
        "## Evaluating on Test Set"
      ]
    },
    {
      "cell_type": "code",
      "source": [
        "amazon_reviews_df_test = amazon_reviews_pipeline.transform(amazon_reviews_df_test)\n",
        "amazon_reviews_df_test.show()"
      ],
      "metadata": {
        "colab": {
          "base_uri": "https://localhost:8080/"
        },
        "id": "6CfzCH_G1Xo1",
        "outputId": "c3a57b91-8789-4f93-92fb-66cf4deeca68"
      },
      "execution_count": null,
      "outputs": [
        {
          "output_type": "stream",
          "name": "stdout",
          "text": [
            "+--------+--------------------+--------------------+--------------------+--------------------+---------------------------+----------------------------+--------------------+--------------------+\n",
            "|Polarity|               Title|              Review|        User_Opinion| User_Opinion_Tokens|User_Opinion_Filterd_Tokens|User_Opinion_Word_Embeddings|Scaled_User_Opinions| Final_User_Opinions|\n",
            "+--------+--------------------+--------------------+--------------------+--------------------+---------------------------+----------------------------+--------------------+--------------------+\n",
            "|       1|TRULY MADE A DIFF...|I have been using...|TRULY MADE A DIFF...|[truly, made, a, ...|       [truly, made, dif...|        [-0.0252324048447...|[-0.5532670735928...|[-0.5532670735928...|\n",
            "|       0|     Waste of money!|Like many of the ...|Waste of money! ....|[waste, of, money...|       [waste, money!, ....|        [-0.1094249673354...|[-2.3993444869020...|[-2.3993444869020...|\n",
            "|       1|            Mary Ash|Can't believe I h...|Mary Ash . Can't ...|[mary, ash, ., ca...|       [mary, ash, ., be...|        [-0.0437484076436...|[-0.9592646289657...|[-0.9592646289657...|\n",
            "|       1|           Wonderful|I went online for...|Wonderful . I wen...|[wonderful, ., i,...|       [wonderful, ., we...|        [0.02570725167452...|[0.56367896724714...|[0.56367896724714...|\n",
            "|       1|Leslie in a nutshell|Danelectro DJ-20C...|Leslie in a nutsh...|[leslie, in, a, n...|       [leslie, nutshell...|        [-0.0109087457027...|[-0.2391943950122...|[-0.2391943950122...|\n",
            "|       1|I would sell it -...|West is only fair...|I would sell it -...|[i, would, sell, ...|       [sell, --, book, ...|        [-0.0088951318628...|[-0.1950421929752...|[-0.1950421929752...|\n",
            "|       1|A welcomed change...|\"A refreshing, su...|A welcomed change...|[a, welcomed, cha...|       [welcomed, change...|        [-0.0236741394218...|[-0.5190992265033...|[-0.5190992265033...|\n",
            "|       0|Used for circuits...|I used the genera...|Used for circuits...|[used, for, circu...|       [used, circuits, ...|        [-0.0591454195174...|[-1.2968725483807...|[-1.2968725483807...|\n",
            "|       0|  very disappointing|The movie is vulg...|very disappointin...|[very, disappoint...|       [disappointing, ....|        [0.02234832815884...|[0.49002836615008...|[0.49002836615008...|\n",
            "|       0|                WOW!|This book really ...|WOW! . This book ...|[wow!, ., this, b...|       [wow!, ., book, r...|        [0.00602932332708...|[0.13220404846231...|[0.13220404846231...|\n",
            "|       1|Charlie Brown Chr...|I gave this movie...|Charlie Brown Chr...|[charlie, brown, ...|       [charlie, brown, ...|        [-0.1046757815087...|[-2.2952098172007...|[-2.2952098172007...|\n",
            "|       0|Not a real Rammst...|Bootleg collectio...|Not a real Rammst...|[not, a, real, ra...|       [real, rammstein,...|        [-0.0656550848701...|[-1.4396089828146...|[-1.4396089828146...|\n",
            "|       1|Good product at r...|Though the output...|Good product at r...|[good, product, a...|       [good, product, r...|        [-0.0550898807969...|[-1.2079473724603...|[-1.2079473724603...|\n",
            "|       0|Lara should have ...|I was so looking ...|Lara should have ...|[lara, should, ha...|       [lara, remained, ...|        [-0.0236453431896...|[-0.5184678159343...|[-0.5184678159343...|\n",
            "|       0|Angel of darkness...|This game is the ...|Angel of darkness...|[angel, of, darkn...|       [angel, darkness,...|        [-0.0171014720670...|[-0.3749813568249...|[-0.3749813568249...|\n",
            "|       1|      Almost perfect|Stockings are not...|Almost perfect . ...|[almost, perfect,...|       [almost, perfect,...|        [-0.0031804235693...|[-0.0697366601327...|[-0.0697366601327...|\n",
            "|       0|I do not recommen...|We bought this Em...|I do not recommen...|[i, do, not, reco...|       [recommend, vacuu...|        [-0.0282298026223...|[-0.6189905552428...|[-0.6189905552428...|\n",
            "|       1|\"\"\"Like this\"\" by...|\"Like this is bre...|\"\"\"Like this\"\" by...|[\"\"\"like, this\"\",...|       [\"\"\"like, this\"\",...|        [-0.0472165294724...|[-1.0353096047374...|[-1.0353096047374...|\n",
            "|       1|I am so glad I fo...|\"At one time this...|I am so glad I fo...|[i, am, so, glad,...|       [glad, found, thi...|        [0.01849625804128...|[0.40556461509974...|[0.40556461509974...|\n",
            "|       1|I'm grateful for ...|We had two belove...|I'm grateful for ...|[i'm, grateful, f...|       [grateful, book, ...|        [-0.0534740706132...|[-1.1725177502219...|[-1.1725177502219...|\n",
            "+--------+--------------------+--------------------+--------------------+--------------------+---------------------------+----------------------------+--------------------+--------------------+\n",
            "only showing top 20 rows\n",
            "\n"
          ]
        }
      ]
    },
    {
      "cell_type": "code",
      "execution_count": null,
      "metadata": {
        "id": "mLb78v9G3Sxu",
        "colab": {
          "base_uri": "https://localhost:8080/"
        },
        "outputId": "ec6e6a1d-11e1-4f4f-fe22-4d542f2c81a1"
      },
      "outputs": [
        {
          "output_type": "stream",
          "name": "stdout",
          "text": [
            "+--------+--------------------+--------------------+--------------------+--------------------+---------------------------+----------------------------+--------------------+--------------------+--------------------+--------------------+----------+\n",
            "|Polarity|               Title|              Review|        User_Opinion| User_Opinion_Tokens|User_Opinion_Filterd_Tokens|User_Opinion_Word_Embeddings|Scaled_User_Opinions| Final_User_Opinions|       rawPrediction|         probability|prediction|\n",
            "+--------+--------------------+--------------------+--------------------+--------------------+---------------------------+----------------------------+--------------------+--------------------+--------------------+--------------------+----------+\n",
            "|       1|TRULY MADE A DIFF...|I have been using...|TRULY MADE A DIFF...|[truly, made, a, ...|       [truly, made, dif...|        [-0.0252324048447...|[-0.5532670735928...|[-0.5532670735928...|[-1.3688107735610...|[0.20281205180460...|       1.0|\n",
            "|       0|     Waste of money!|Like many of the ...|Waste of money! ....|[waste, of, money...|       [waste, money!, ....|        [-0.1094249673354...|[-2.3993444869020...|[-2.3993444869020...|[3.69403285325783...|[0.97573208299013...|       0.0|\n",
            "|       1|            Mary Ash|Can't believe I h...|Mary Ash . Can't ...|[mary, ash, ., ca...|       [mary, ash, ., be...|        [-0.0437484076436...|[-0.9592646289657...|[-0.9592646289657...|[1.19707903777777...|[0.76800475304180...|       0.0|\n",
            "|       1|           Wonderful|I went online for...|Wonderful . I wen...|[wonderful, ., i,...|       [wonderful, ., we...|        [0.02570725167452...|[0.56367896724714...|[0.56367896724714...|[-1.9666478235065...|[0.12274939959437...|       1.0|\n",
            "|       1|Leslie in a nutshell|Danelectro DJ-20C...|Leslie in a nutsh...|[leslie, in, a, n...|       [leslie, nutshell...|        [-0.0109087457027...|[-0.2391943950122...|[-0.2391943950122...|[-1.4916509080100...|[0.18367406445571...|       1.0|\n",
            "|       1|I would sell it -...|West is only fair...|I would sell it -...|[i, would, sell, ...|       [sell, --, book, ...|        [-0.0088951318628...|[-0.1950421929752...|[-0.1950421929752...|[-1.1759536989933...|[0.23578051172874...|       1.0|\n",
            "|       1|A welcomed change...|\"A refreshing, su...|A welcomed change...|[a, welcomed, cha...|       [welcomed, change...|        [-0.0236741394218...|[-0.5190992265033...|[-0.5190992265033...|[-2.8570371362871...|[0.05431869656426...|       1.0|\n",
            "|       0|Used for circuits...|I used the genera...|Used for circuits...|[used, for, circu...|       [used, circuits, ...|        [-0.0591454195174...|[-1.2968725483807...|[-1.2968725483807...|[-0.0817214909954...|[0.47958098984980...|       1.0|\n",
            "|       0|  very disappointing|The movie is vulg...|very disappointin...|[very, disappoint...|       [disappointing, ....|        [0.02234832815884...|[0.49002836615008...|[0.49002836615008...|[2.40128977008994...|[0.91692560206301...|       0.0|\n",
            "|       0|                WOW!|This book really ...|WOW! . This book ...|[wow!, ., this, b...|       [wow!, ., book, r...|        [0.00602932332708...|[0.13220404846231...|[0.13220404846231...|[-0.1357765725000...|[0.46610790839390...|       1.0|\n",
            "|       1|Charlie Brown Chr...|I gave this movie...|Charlie Brown Chr...|[charlie, brown, ...|       [charlie, brown, ...|        [-0.1046757815087...|[-2.2952098172007...|[-2.2952098172007...|[-6.2345858584101...|[0.00195660513753...|       1.0|\n",
            "|       0|Not a real Rammst...|Bootleg collectio...|Not a real Rammst...|[not, a, real, ra...|       [real, rammstein,...|        [-0.0656550848701...|[-1.4396089828146...|[-1.4396089828146...|[2.85691536954489...|[0.94567504816085...|       0.0|\n",
            "|       1|Good product at r...|Though the output...|Good product at r...|[good, product, a...|       [good, product, r...|        [-0.0550898807969...|[-1.2079473724603...|[-1.2079473724603...|[-0.7216554426633...|[0.32702854738893...|       1.0|\n",
            "|       0|Lara should have ...|I was so looking ...|Lara should have ...|[lara, should, ha...|       [lara, remained, ...|        [-0.0236453431896...|[-0.5184678159343...|[-0.5184678159343...|[1.46286458850033...|[0.81197041518348...|       0.0|\n",
            "|       0|Angel of darkness...|This game is the ...|Angel of darkness...|[angel, of, darkn...|       [angel, darkness,...|        [-0.0171014720670...|[-0.3749813568249...|[-0.3749813568249...|[3.47364676279321...|[0.96992856663865...|       0.0|\n",
            "|       1|      Almost perfect|Stockings are not...|Almost perfect . ...|[almost, perfect,...|       [almost, perfect,...|        [-0.0031804235693...|[-0.0697366601327...|[-0.0697366601327...|[-1.6916685263195...|[0.15555653868771...|       1.0|\n",
            "|       0|I do not recommen...|We bought this Em...|I do not recommen...|[i, do, not, reco...|       [recommend, vacuu...|        [-0.0282298026223...|[-0.6189905552428...|[-0.6189905552428...|[0.95057027560151...|[0.72122985059011...|       0.0|\n",
            "|       1|\"\"\"Like this\"\" by...|\"Like this is bre...|\"\"\"Like this\"\" by...|[\"\"\"like, this\"\",...|       [\"\"\"like, this\"\",...|        [-0.0472165294724...|[-1.0353096047374...|[-1.0353096047374...|[-2.8743211651439...|[0.05343765626706...|       1.0|\n",
            "|       1|I am so glad I fo...|\"At one time this...|I am so glad I fo...|[i, am, so, glad,...|       [glad, found, thi...|        [0.01849625804128...|[0.40556461509974...|[0.40556461509974...|[-2.4573077235087...|[0.07890578922330...|       1.0|\n",
            "|       1|I'm grateful for ...|We had two belove...|I'm grateful for ...|[i'm, grateful, f...|       [grateful, book, ...|        [-0.0534740706132...|[-1.1725177502219...|[-1.1725177502219...|[0.22654137324304...|[0.55639436478578...|       0.0|\n",
            "+--------+--------------------+--------------------+--------------------+--------------------+---------------------------+----------------------------+--------------------+--------------------+--------------------+--------------------+----------+\n",
            "only showing top 20 rows\n",
            "\n"
          ]
        }
      ],
      "source": [
        "amazon_reviews_df_test_predictions = amazon_reviews_model.transform(amazon_reviews_df_test)\n",
        "amazon_reviews_df_test_predictions.show()"
      ]
    },
    {
      "cell_type": "markdown",
      "source": [
        "### Analysing the results"
      ],
      "metadata": {
        "id": "avRiZK6arBBk"
      }
    },
    {
      "cell_type": "markdown",
      "source": [
        "#### Checking the Predictions"
      ],
      "metadata": {
        "id": "8PFlamkhO3wL"
      }
    },
    {
      "cell_type": "code",
      "source": [
        "amazon_reviews_df_test_predictions.withColumn('Sentiment', when(amazon_reviews_df_test_predictions.Polarity==1, 'Positive').otherwise('Negative'))\\\n",
        "                                  .withColumn('Predicted_Sentiment', when(amazon_reviews_df_test_predictions.prediction==1, 'Positive').otherwise('Negative'))\\\n",
        "                                  .select('Title', 'Review', 'Sentiment', 'Predicted_Sentiment').show()"
      ],
      "metadata": {
        "colab": {
          "base_uri": "https://localhost:8080/"
        },
        "id": "_Us8t9iZNfum",
        "outputId": "239cd836-649f-4b0c-cc58-e127eee66dcf"
      },
      "execution_count": null,
      "outputs": [
        {
          "output_type": "stream",
          "name": "stdout",
          "text": [
            "+--------------------+--------------------+---------+-------------------+\n",
            "|               Title|              Review|Sentiment|Predicted_Sentiment|\n",
            "+--------------------+--------------------+---------+-------------------+\n",
            "|TRULY MADE A DIFF...|I have been using...| Positive|           Positive|\n",
            "|     Waste of money!|Like many of the ...| Negative|           Negative|\n",
            "|            Mary Ash|Can't believe I h...| Positive|           Negative|\n",
            "|           Wonderful|I went online for...| Positive|           Positive|\n",
            "|Leslie in a nutshell|Danelectro DJ-20C...| Positive|           Positive|\n",
            "|I would sell it -...|West is only fair...| Positive|           Positive|\n",
            "|A welcomed change...|\"A refreshing, su...| Positive|           Positive|\n",
            "|Used for circuits...|I used the genera...| Negative|           Positive|\n",
            "|  very disappointing|The movie is vulg...| Negative|           Negative|\n",
            "|                WOW!|This book really ...| Negative|           Positive|\n",
            "|Charlie Brown Chr...|I gave this movie...| Positive|           Positive|\n",
            "|Not a real Rammst...|Bootleg collectio...| Negative|           Negative|\n",
            "|Good product at r...|Though the output...| Positive|           Positive|\n",
            "|Lara should have ...|I was so looking ...| Negative|           Negative|\n",
            "|Angel of darkness...|This game is the ...| Negative|           Negative|\n",
            "|      Almost perfect|Stockings are not...| Positive|           Positive|\n",
            "|I do not recommen...|We bought this Em...| Negative|           Negative|\n",
            "|\"\"\"Like this\"\" by...|\"Like this is bre...| Positive|           Positive|\n",
            "|I am so glad I fo...|\"At one time this...| Positive|           Positive|\n",
            "|I'm grateful for ...|We had two belove...| Positive|           Negative|\n",
            "+--------------------+--------------------+---------+-------------------+\n",
            "only showing top 20 rows\n",
            "\n"
          ]
        }
      ]
    },
    {
      "cell_type": "markdown",
      "metadata": {
        "id": "59j7bPTh3tbM"
      },
      "source": [
        "#### Confusion Matrix"
      ]
    },
    {
      "cell_type": "code",
      "execution_count": null,
      "metadata": {
        "id": "PUKpHeWo3ZMM",
        "colab": {
          "base_uri": "https://localhost:8080/"
        },
        "outputId": "55e11ab7-acb6-40af-e37f-cff77dfb501b"
      },
      "outputs": [
        {
          "output_type": "stream",
          "name": "stdout",
          "text": [
            "+---------------------+-----------------+-----------------+\n",
            "|                     |Actual - Positive|Actual - Negative|\n",
            "+---------------------+-----------------+-----------------+\n",
            "|Prediction - Positive|17076            |3038             |\n",
            "|Prediction - Negative|2937             |17069            |\n",
            "+---------------------+-----------------+-----------------+\n",
            "\n"
          ]
        }
      ],
      "source": [
        "true_postives = amazon_reviews_df_test_predictions.filter((col(\"Polarity\") == 1) & (col(\"prediction\") == 1)).count()\n",
        "false_postives = amazon_reviews_df_test_predictions.filter((col(\"Polarity\") == 0) & (col(\"prediction\") == 1)).count()\n",
        "true_negatives = amazon_reviews_df_test_predictions.filter((col(\"Polarity\") == 0) & (col(\"prediction\") == 0)).count()\n",
        "false_negatives = amazon_reviews_df_test_predictions.filter((col(\"Polarity\") == 1) & (col(\"prediction\") == 0)).count()\n",
        "\n",
        "amazon_reviews_confusion_matrix = spark.createDataFrame([('Prediction - Positive', true_postives, false_postives), ('Prediction - Negative', false_negatives, true_negatives)], ['', 'Actual - Positive', 'Actual - Negative'])\n",
        "amazon_reviews_confusion_matrix.show(truncate=False)"
      ]
    },
    {
      "cell_type": "markdown",
      "metadata": {
        "id": "Z7d2a0KV3w-K"
      },
      "source": [
        "#### Accuracy"
      ]
    },
    {
      "cell_type": "code",
      "execution_count": null,
      "metadata": {
        "id": "MCtT-LjZ3dnq",
        "colab": {
          "base_uri": "https://localhost:8080/"
        },
        "outputId": "f69cf1a9-dd08-4b0a-9dbe-7a3d62b8c177"
      },
      "outputs": [
        {
          "output_type": "stream",
          "name": "stdout",
          "text": [
            "Accuracy :  85.10717846460618\n"
          ]
        }
      ],
      "source": [
        "accuracy = ((true_postives + true_negatives)/(true_postives + true_negatives + false_postives + false_negatives)) * 100\n",
        "print('Accuracy : ', accuracy)"
      ]
    },
    {
      "cell_type": "markdown",
      "metadata": {
        "id": "ciUCtcn73y9u"
      },
      "source": [
        "#### Precision"
      ]
    },
    {
      "cell_type": "code",
      "execution_count": null,
      "metadata": {
        "id": "t2F_3-HK3j0x",
        "colab": {
          "base_uri": "https://localhost:8080/"
        },
        "outputId": "aacfd30a-3f32-4c7a-bdd5-f2024e859a73"
      },
      "outputs": [
        {
          "output_type": "stream",
          "name": "stdout",
          "text": [
            "Precision :  0.8489609227403798\n"
          ]
        }
      ],
      "source": [
        "precision = true_postives / (true_postives + false_postives)\n",
        "print('Precision : ', precision)"
      ]
    },
    {
      "cell_type": "markdown",
      "metadata": {
        "id": "gnRu1b_z30_a"
      },
      "source": [
        "#### Recall"
      ]
    },
    {
      "cell_type": "code",
      "execution_count": null,
      "metadata": {
        "id": "DwViA28P3mXe",
        "colab": {
          "base_uri": "https://localhost:8080/"
        },
        "outputId": "8b86e1bf-d0ee-4212-d6e4-b60979e51323"
      },
      "outputs": [
        {
          "output_type": "stream",
          "name": "stdout",
          "text": [
            "Recall :  0.8532453904961775\n"
          ]
        }
      ],
      "source": [
        "recall = true_postives / (true_postives + false_negatives)\n",
        "print('Recall : ', recall)"
      ]
    },
    {
      "cell_type": "markdown",
      "source": [
        "# Component 3 : Summary and Conclusions\n",
        "\n",
        "In this project, I was a able to build a sentiment analysis model which is able to accurately classify users sentiment (Whether Positive / Negative) from Amazon product reviews. Initially, I have explored the data by looking at the top 100 most frequent words and bigrams in reviews to get a better understanding of the words used ind dataset. Then, I have preprocessed the dataset by concatinating the Title and Reviews column and splitting the reviews into individual tokens and removing stopwords. Then for generating the numerical representation of review tokens, I have used Word2Vec to get word embeddings of review tokens. Then I have scaled and assembled the features and generated class weights to handle the imbalance in the dataset. Then a sample of data is taken from the dataset for hyper parameter tuning by training with different parameters on the 3 ML models and evaluating against the validation set. Then the dataset has been trained on the 3 ML models with the optimal hyper parameters and evaluated against the validation data in order to select the best model. As per the evaluations Random Forest Classifier achieved an accuracy of **80.5%**, Logistic Regression achieved an accuracy of **84.98%** and Support Vector Classifier has achieved an accuracy of **84.86%**. Based on the evaluation results, I have selected Logistic Regression as the best model and I have evaluated this model against the test set and obtained an accuracy of **85**% with a precision of **0.84** and a recall of **0.85** which indicates that the model has performed well on the unseen test set as well.\n",
        "Overall, this project demonstrates the effectiveness of the ML techniques in order to predict users sentiment based on their reviews. Below few improvements can be made in order to further improve the performance of the model.\n",
        "\n",
        "### Improvements\n",
        "\n",
        "1.   Although Word2Vec is an excellent option to capture semantic meaning between words in order to generate word embeddings for review tokens, we can experiment with Doc2Vec which will also capture the semantic meaning between sentences. This performs better especially with long reviews containing multiple sentences. Much better way is to build two different models based on the review characters length. If the review contains fewer sentences, we can pre-process the data using Word2Vec and build one model which will only handle reviews with few sentences. Similarly if the review contains more sentences, we can use Doc2Vec and build another model for handling large sentences. This way, we can select the appropriate model based upon the review sentence length during the inference.\n",
        "2.   Instead of sololey relying on one classifier, we can use ensemble approach by taking the majority voted output from multiple classifiers.\n",
        "3.   We can use additional feature engineering techniques to extract more features from the reviews. For ex:- We can first apply clustering techniques in order to group similar reviews together and then take cluster labels as additional features for sentiment analysis\n",
        "4.   Improving the accuracy by further training with a huge dataset by increasing the dataset size.\n",
        "5.   Instead of relying on the traditional ML models, we can use state of the art models like Bidirectional LSTMs , Transformer-based models such as BERT etc.., in order to further improve the accuracy."
      ],
      "metadata": {
        "id": "flahf0W8rKqb"
      }
    }
  ],
  "metadata": {
    "colab": {
      "provenance": [],
      "collapsed_sections": [
        "5qLhVEEE2R0M"
      ]
    },
    "kernelspec": {
      "display_name": "Python 3",
      "name": "python3"
    },
    "language_info": {
      "name": "python"
    }
  },
  "nbformat": 4,
  "nbformat_minor": 0
}